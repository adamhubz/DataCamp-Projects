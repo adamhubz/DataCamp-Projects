{
 "cells": [
  {
   "cell_type": "code",
   "execution_count": 56,
   "id": "70a3b9bd",
   "metadata": {},
   "outputs": [
    {
     "data": {
      "application/com.datacamp.data-table.v1+json": {
       "is_truncated": false,
       "table": {
        "data": [
         {
          "gender": "female",
          "index": 0,
          "lunch": "standard",
          "math": 72,
          "parent_education_level": "bachelor's degree",
          "race/ethnicity": "group B",
          "reading": 72,
          "test_prep_course": "none",
          "writing": 74
         },
         {
          "gender": "female",
          "index": 1,
          "lunch": "standard",
          "math": 69,
          "parent_education_level": "some college",
          "race/ethnicity": "group C",
          "reading": 90,
          "test_prep_course": "completed",
          "writing": 88
         },
         {
          "gender": "female",
          "index": 2,
          "lunch": "standard",
          "math": 90,
          "parent_education_level": "master's degree",
          "race/ethnicity": "group B",
          "reading": 95,
          "test_prep_course": "none",
          "writing": 93
         },
         {
          "gender": "male",
          "index": 3,
          "lunch": "free/reduced",
          "math": 47,
          "parent_education_level": "associate's degree",
          "race/ethnicity": "group A",
          "reading": 57,
          "test_prep_course": "none",
          "writing": 44
         },
         {
          "gender": "male",
          "index": 4,
          "lunch": "standard",
          "math": 76,
          "parent_education_level": "some college",
          "race/ethnicity": "group C",
          "reading": 78,
          "test_prep_course": "none",
          "writing": 75
         }
        ],
        "schema": {
         "fields": [
          {
           "name": "index",
           "type": "integer"
          },
          {
           "name": "gender",
           "type": "string"
          },
          {
           "name": "race/ethnicity",
           "type": "string"
          },
          {
           "name": "parent_education_level",
           "type": "string"
          },
          {
           "name": "lunch",
           "type": "string"
          },
          {
           "name": "test_prep_course",
           "type": "string"
          },
          {
           "name": "math",
           "type": "integer"
          },
          {
           "name": "reading",
           "type": "integer"
          },
          {
           "name": "writing",
           "type": "integer"
          }
         ],
         "pandas_version": "0.20.0",
         "primaryKey": [
          "index"
         ]
        }
       },
       "total_rows": 5
      },
      "text/html": [
       "<div>\n",
       "<style scoped>\n",
       "    .dataframe tbody tr th:only-of-type {\n",
       "        vertical-align: middle;\n",
       "    }\n",
       "\n",
       "    .dataframe tbody tr th {\n",
       "        vertical-align: top;\n",
       "    }\n",
       "\n",
       "    .dataframe thead th {\n",
       "        text-align: right;\n",
       "    }\n",
       "</style>\n",
       "<table border=\"1\" class=\"dataframe\">\n",
       "  <thead>\n",
       "    <tr style=\"text-align: right;\">\n",
       "      <th></th>\n",
       "      <th>gender</th>\n",
       "      <th>race/ethnicity</th>\n",
       "      <th>parent_education_level</th>\n",
       "      <th>lunch</th>\n",
       "      <th>test_prep_course</th>\n",
       "      <th>math</th>\n",
       "      <th>reading</th>\n",
       "      <th>writing</th>\n",
       "    </tr>\n",
       "  </thead>\n",
       "  <tbody>\n",
       "    <tr>\n",
       "      <th>0</th>\n",
       "      <td>female</td>\n",
       "      <td>group B</td>\n",
       "      <td>bachelor's degree</td>\n",
       "      <td>standard</td>\n",
       "      <td>none</td>\n",
       "      <td>72</td>\n",
       "      <td>72</td>\n",
       "      <td>74</td>\n",
       "    </tr>\n",
       "    <tr>\n",
       "      <th>1</th>\n",
       "      <td>female</td>\n",
       "      <td>group C</td>\n",
       "      <td>some college</td>\n",
       "      <td>standard</td>\n",
       "      <td>completed</td>\n",
       "      <td>69</td>\n",
       "      <td>90</td>\n",
       "      <td>88</td>\n",
       "    </tr>\n",
       "    <tr>\n",
       "      <th>2</th>\n",
       "      <td>female</td>\n",
       "      <td>group B</td>\n",
       "      <td>master's degree</td>\n",
       "      <td>standard</td>\n",
       "      <td>none</td>\n",
       "      <td>90</td>\n",
       "      <td>95</td>\n",
       "      <td>93</td>\n",
       "    </tr>\n",
       "    <tr>\n",
       "      <th>3</th>\n",
       "      <td>male</td>\n",
       "      <td>group A</td>\n",
       "      <td>associate's degree</td>\n",
       "      <td>free/reduced</td>\n",
       "      <td>none</td>\n",
       "      <td>47</td>\n",
       "      <td>57</td>\n",
       "      <td>44</td>\n",
       "    </tr>\n",
       "    <tr>\n",
       "      <th>4</th>\n",
       "      <td>male</td>\n",
       "      <td>group C</td>\n",
       "      <td>some college</td>\n",
       "      <td>standard</td>\n",
       "      <td>none</td>\n",
       "      <td>76</td>\n",
       "      <td>78</td>\n",
       "      <td>75</td>\n",
       "    </tr>\n",
       "  </tbody>\n",
       "</table>\n",
       "</div>"
      ],
      "text/plain": [
       "   gender race/ethnicity parent_education_level         lunch  \\\n",
       "0  female        group B      bachelor's degree      standard   \n",
       "1  female        group C           some college      standard   \n",
       "2  female        group B        master's degree      standard   \n",
       "3    male        group A     associate's degree  free/reduced   \n",
       "4    male        group C           some college      standard   \n",
       "\n",
       "  test_prep_course  math  reading  writing  \n",
       "0             none    72       72       74  \n",
       "1        completed    69       90       88  \n",
       "2             none    90       95       93  \n",
       "3             none    47       57       44  \n",
       "4             none    76       78       75  "
      ]
     },
     "execution_count": 56,
     "metadata": {},
     "output_type": "execute_result"
    }
   ],
   "source": [
    "# Importing the pandas module\n",
    "import pandas as pd\n",
    "\n",
    "#Visualize\n",
    "import seaborn as sns\n",
    "\n",
    "# Reading in the data\n",
    "df = pd.read_csv('data/exams.csv')\n",
    "\n",
    "# Take a look at the first datapoints\n",
    "df.head()"
   ]
  },
  {
   "cell_type": "markdown",
   "id": "bb4cd736",
   "metadata": {},
   "source": [
    "## 💾 The data\n",
    "\n",
    "#### The file has the following fields ([source](http://roycekimmons.com/tools/generated_data/exams)):\n",
    "- \"gender\" - male / female\n",
    "- \"race/ethnicity\" - one of 5 combinations of race/ethnicity\n",
    "- \"parent_education_level\" -  highest education level of either parent\n",
    "- \"lunch\" - whether the student receives free/reduced or standard lunch\n",
    "- \"test_prep_course\" - whether the student took the test preparation course\n",
    "- \"math\" -  exam score in math \n",
    "- \"reading\" -  exam score in reading \n",
    "- \"writing\" -  exam score in writing "
   ]
  },
  {
   "cell_type": "code",
   "execution_count": 57,
   "id": "9e45e1f8",
   "metadata": {},
   "outputs": [
    {
     "data": {
      "application/com.datacamp.data-table.v1+json": {
       "is_truncated": false,
       "table": {
        "data": [
         {
          "gender": "female",
          "index": 0,
          "lunch": "standard",
          "math": 72,
          "parent_education_level": "bachelor's degree",
          "race/ethnicity": "group B",
          "reading": 72,
          "test_prep_course": "none",
          "writing": 74
         },
         {
          "gender": "female",
          "index": 1,
          "lunch": "standard",
          "math": 69,
          "parent_education_level": "some college",
          "race/ethnicity": "group C",
          "reading": 90,
          "test_prep_course": "completed",
          "writing": 88
         },
         {
          "gender": "female",
          "index": 2,
          "lunch": "standard",
          "math": 90,
          "parent_education_level": "master's degree",
          "race/ethnicity": "group B",
          "reading": 95,
          "test_prep_course": "none",
          "writing": 93
         },
         {
          "gender": "male",
          "index": 3,
          "lunch": "free/reduced",
          "math": 47,
          "parent_education_level": "associate's degree",
          "race/ethnicity": "group A",
          "reading": 57,
          "test_prep_course": "none",
          "writing": 44
         },
         {
          "gender": "male",
          "index": 4,
          "lunch": "standard",
          "math": 76,
          "parent_education_level": "some college",
          "race/ethnicity": "group C",
          "reading": 78,
          "test_prep_course": "none",
          "writing": 75
         }
        ],
        "schema": {
         "fields": [
          {
           "name": "index",
           "type": "integer"
          },
          {
           "name": "gender",
           "type": "string"
          },
          {
           "name": "race/ethnicity",
           "type": "string"
          },
          {
           "name": "parent_education_level",
           "type": "string"
          },
          {
           "name": "lunch",
           "type": "string"
          },
          {
           "name": "test_prep_course",
           "type": "string"
          },
          {
           "name": "math",
           "type": "integer"
          },
          {
           "name": "reading",
           "type": "integer"
          },
          {
           "name": "writing",
           "type": "integer"
          }
         ],
         "pandas_version": "0.20.0",
         "primaryKey": [
          "index"
         ]
        }
       },
       "total_rows": 5
      },
      "text/html": [
       "<div>\n",
       "<style scoped>\n",
       "    .dataframe tbody tr th:only-of-type {\n",
       "        vertical-align: middle;\n",
       "    }\n",
       "\n",
       "    .dataframe tbody tr th {\n",
       "        vertical-align: top;\n",
       "    }\n",
       "\n",
       "    .dataframe thead th {\n",
       "        text-align: right;\n",
       "    }\n",
       "</style>\n",
       "<table border=\"1\" class=\"dataframe\">\n",
       "  <thead>\n",
       "    <tr style=\"text-align: right;\">\n",
       "      <th></th>\n",
       "      <th>gender</th>\n",
       "      <th>race/ethnicity</th>\n",
       "      <th>parent_education_level</th>\n",
       "      <th>lunch</th>\n",
       "      <th>test_prep_course</th>\n",
       "      <th>math</th>\n",
       "      <th>reading</th>\n",
       "      <th>writing</th>\n",
       "    </tr>\n",
       "  </thead>\n",
       "  <tbody>\n",
       "    <tr>\n",
       "      <th>0</th>\n",
       "      <td>female</td>\n",
       "      <td>group B</td>\n",
       "      <td>bachelor's degree</td>\n",
       "      <td>standard</td>\n",
       "      <td>none</td>\n",
       "      <td>72</td>\n",
       "      <td>72</td>\n",
       "      <td>74</td>\n",
       "    </tr>\n",
       "    <tr>\n",
       "      <th>1</th>\n",
       "      <td>female</td>\n",
       "      <td>group C</td>\n",
       "      <td>some college</td>\n",
       "      <td>standard</td>\n",
       "      <td>completed</td>\n",
       "      <td>69</td>\n",
       "      <td>90</td>\n",
       "      <td>88</td>\n",
       "    </tr>\n",
       "    <tr>\n",
       "      <th>2</th>\n",
       "      <td>female</td>\n",
       "      <td>group B</td>\n",
       "      <td>master's degree</td>\n",
       "      <td>standard</td>\n",
       "      <td>none</td>\n",
       "      <td>90</td>\n",
       "      <td>95</td>\n",
       "      <td>93</td>\n",
       "    </tr>\n",
       "    <tr>\n",
       "      <th>3</th>\n",
       "      <td>male</td>\n",
       "      <td>group A</td>\n",
       "      <td>associate's degree</td>\n",
       "      <td>free/reduced</td>\n",
       "      <td>none</td>\n",
       "      <td>47</td>\n",
       "      <td>57</td>\n",
       "      <td>44</td>\n",
       "    </tr>\n",
       "    <tr>\n",
       "      <th>4</th>\n",
       "      <td>male</td>\n",
       "      <td>group C</td>\n",
       "      <td>some college</td>\n",
       "      <td>standard</td>\n",
       "      <td>none</td>\n",
       "      <td>76</td>\n",
       "      <td>78</td>\n",
       "      <td>75</td>\n",
       "    </tr>\n",
       "  </tbody>\n",
       "</table>\n",
       "</div>"
      ],
      "text/plain": [
       "   gender race/ethnicity parent_education_level         lunch  \\\n",
       "0  female        group B      bachelor's degree      standard   \n",
       "1  female        group C           some college      standard   \n",
       "2  female        group B        master's degree      standard   \n",
       "3    male        group A     associate's degree  free/reduced   \n",
       "4    male        group C           some college      standard   \n",
       "\n",
       "  test_prep_course  math  reading  writing  \n",
       "0             none    72       72       74  \n",
       "1        completed    69       90       88  \n",
       "2             none    90       95       93  \n",
       "3             none    47       57       44  \n",
       "4             none    76       78       75  "
      ]
     },
     "execution_count": 57,
     "metadata": {},
     "output_type": "execute_result"
    }
   ],
   "source": [
    "df.head()"
   ]
  },
  {
   "cell_type": "markdown",
   "id": "92fc3764-f2d7-4d08-944d-1e35cbdc196c",
   "metadata": {},
   "source": [
    "Create average reading scores with groupby test_prep_course column"
   ]
  },
  {
   "cell_type": "code",
   "execution_count": 58,
   "id": "985bb6a8-0410-41af-9c24-7706a4701ca6",
   "metadata": {},
   "outputs": [
    {
     "data": {
      "text/plain": [
       "test_prep_course\n",
       "completed    73.893855\n",
       "none         66.534268\n",
       "Name: reading, dtype: float64"
      ]
     },
     "execution_count": 58,
     "metadata": {},
     "output_type": "execute_result"
    }
   ],
   "source": [
    "avg_read = df.reading.groupby(df.test_prep_course).mean()\n",
    "avg_read"
   ]
  },
  {
   "cell_type": "markdown",
   "id": "cc586dbf-2dc6-4a45-baf2-769edde49863",
   "metadata": {},
   "source": [
    "We can see that from avg_read, the average reading scores for students with the preparation course is 73.893855 and the average reading scores for students without the preparation course is 66.534268"
   ]
  },
  {
   "cell_type": "markdown",
   "id": "b6a8a7b0-c8c7-4d35-9634-68117788b574",
   "metadata": {},
   "source": [
    "Create average scores column and group it by parent_education_level column"
   ]
  },
  {
   "cell_type": "code",
   "execution_count": 59,
   "id": "74213c2e-8af2-40ba-a3dd-60364f22aacb",
   "metadata": {},
   "outputs": [
    {
     "data": {
      "text/plain": [
       "parent_education_level\n",
       "associate's degree    69.569069\n",
       "bachelor's degree     71.923729\n",
       "high school           63.096939\n",
       "master's degree       73.598870\n",
       "some college          68.476401\n",
       "some high school      65.108007\n",
       "Name: avg_score, dtype: float64"
      ]
     },
     "execution_count": 59,
     "metadata": {},
     "output_type": "execute_result"
    }
   ],
   "source": [
    "cols = ['math', 'reading', 'writing']\n",
    "df['avg_score'] = df[cols].mean(axis=1)\n",
    "avg_scores = df.avg_score.groupby(df.parent_education_level).mean()\n",
    "avg_scores"
   ]
  },
  {
   "cell_type": "markdown",
   "id": "16ed74df-77b5-4df4-972e-3ac239989d13",
   "metadata": {},
   "source": [
    "We can see that from avg_scores, the average scores for students with parent that have :\n",
    "- associate's degree is 69.569069\n",
    "- bachelor's degree is 71.923729\n",
    "- high school is 63.096939\n",
    "- master's degree is 73.598870\n",
    "- some college is 68.476401\n",
    "- some high school is 65.108007"
   ]
  },
  {
   "cell_type": "markdown",
   "id": "903fcfcc-4c5d-4af6-be04-2e48ad2cd77b",
   "metadata": {},
   "source": [
    "Visualize the average reading scores for students with/without the test preparation course"
   ]
  },
  {
   "cell_type": "code",
   "execution_count": 60,
   "id": "a23fec85-6fa0-4e3b-a4f2-5d9a61c0b4ff",
   "metadata": {},
   "outputs": [
    {
     "data": {
      "image/png": "[encoded data removed]",
      "text/plain": [
       "<Figure size 576x288 with 1 Axes>"
      ]
     },
     "metadata": {
      "needs_background": "light"
     },
     "output_type": "display_data"
    }
   ],
   "source": [
    "sns.catplot(x='test_prep_course', y='reading', data=df, kind='bar', height=4, aspect=2);"
   ]
  },
  {
   "cell_type": "markdown",
   "id": "4d6b79fb-8986-4c9b-b6c5-57347f4dc552",
   "metadata": {},
   "source": [
    "Visualize the average scores for the different parental education levels"
   ]
  },
  {
   "cell_type": "code",
   "execution_count": 61,
   "id": "6c9889ba-3c0b-411c-aef7-cc2e61bc4653",
   "metadata": {},
   "outputs": [
    {
     "data": {
      "image/png": "[encoded data removed]",
      "text/plain": [
       "<Figure size 720x360 with 1 Axes>"
      ]
     },
     "metadata": {
      "needs_background": "light"
     },
     "output_type": "display_data"
    }
   ],
   "source": [
    "sns.catplot(x='parent_education_level', y='avg_score', data=df, kind='bar', height=5, aspect=2);"
   ]
  },
  {
   "cell_type": "markdown",
   "id": "ac500f8e-6a05-4b76-9b38-0bf8f758a28d",
   "metadata": {},
   "source": [
    "Visualize the average scores for students with/without the test preparation course for different parental education levels"
   ]
  },
  {
   "cell_type": "code",
   "execution_count": 62,
   "id": "efa2c99b-1bf3-4705-80f3-911a70ec2fb5",
   "metadata": {},
   "outputs": [
    {
     "data": {
      "application/vnd.plotly.v1+json": {
       "config": {
        "plotlyServerURL": "https://plot.ly"
       },
       "data": [
        {
         "alignmentgroup": "True",
         "hovertemplate": "test_prep_course=none<br>parent_education_level=%{x}<br>avg_score=%{y}<extra></extra>",
         "legendgroup": "none",
         "marker": {
          "color": "#636efa",
          "pattern": {
           "shape": ""
          }
         },
         "name": "none",
         "offsetgroup": "none",
         "orientation": "v",
         "showlegend": true,
         "textposition": "auto",
         "type": "bar",
         "x": [
          "bachelor's degree",
          "master's degree",
          "associate's degree",
          "some college",
          "associate's degree",
          "some college",
          "high school",
          "associate's degree",
          "associate's degree",
          "high school",
          "master's degree",
          "some high school",
          "high school",
          "some high school",
          "associate's degree",
          "high school",
          "some college",
          "some high school",
          "master's degree",
          "some college",
          "bachelor's degree",
          "high school",
          "master's degree",
          "some college",
          "some college",
          "master's degree",
          "some college",
          "some college",
          "associate's degree",
          "some high school",
          "associate's degree",
          "associate's degree",
          "associate's degree",
          "associate's degree",
          "associate's degree",
          "associate's degree",
          "high school",
          "some college",
          "some college",
          "high school",
          "high school",
          "associate's degree",
          "some high school",
          "some high school",
          "associate's degree",
          "associate's degree",
          "some high school",
          "some high school",
          "some high school",
          "some college",
          "associate's degree",
          "associate's degree",
          "associate's degree",
          "some high school",
          "some high school",
          "associate's degree",
          "some high school",
          "master's degree",
          "associate's degree",
          "high school",
          "associate's degree",
          "high school",
          "some college",
          "some college",
          "associate's degree",
          "some college",
          "some high school",
          "bachelor's degree",
          "high school",
          "high school",
          "some college",
          "some college",
          "bachelor's degree",
          "some college",
          "associate's degree",
          "some college",
          "master's degree",
          "associate's degree",
          "some high school",
          "high school",
          "associate's degree",
          "some college",
          "high school",
          "bachelor's degree",
          "bachelor's degree",
          "some high school",
          "some college",
          "high school",
          "some college",
          "high school",
          "some high school",
          "master's degree",
          "bachelor's degree",
          "master's degree",
          "bachelor's degree",
          "high school",
          "associate's degree",
          "some high school",
          "some college",
          "high school",
          "some college",
          "some college",
          "some high school",
          "associate's degree",
          "bachelor's degree",
          "bachelor's degree",
          "some high school",
          "some college",
          "associate's degree",
          "master's degree",
          "high school",
          "master's degree",
          "some high school",
          "some college",
          "associate's degree",
          "some college",
          "high school",
          "associate's degree",
          "high school",
          "some high school",
          "bachelor's degree",
          "associate's degree",
          "some high school",
          "associate's degree",
          "high school",
          "some college",
          "bachelor's degree",
          "some college",
          "associate's degree",
          "associate's degree",
          "some college",
          "bachelor's degree",
          "some college",
          "some college",
          "some college",
          "high school",
          "high school",
          "high school",
          "associate's degree",
          "some high school",
          "some high school",
          "master's degree",
          "some college",
          "high school",
          "some high school",
          "some college",
          "associate's degree",
          "bachelor's degree",
          "some high school",
          "associate's degree",
          "bachelor's degree",
          "some college",
          "associate's degree",
          "bachelor's degree",
          "high school",
          "some college",
          "some high school",
          "associate's degree",
          "associate's degree",
          "high school",
          "high school",
          "some college",
          "master's degree",
          "high school",
          "some college",
          "associate's degree",
          "some college",
          "some high school",
          "high school",
          "high school",
          "some high school",
          "bachelor's degree",
          "high school",
          "some college",
          "bachelor's degree",
          "some college",
          "associate's degree",
          "some college",
          "bachelor's degree",
          "some high school",
          "bachelor's degree",
          "high school",
          "high school",
          "bachelor's degree",
          "some high school",
          "some high school",
          "bachelor's degree",
          "associate's degree",
          "some high school",
          "bachelor's degree",
          "associate's degree",
          "associate's degree",
          "some high school",
          "associate's degree",
          "some college",
          "some high school",
          "associate's degree",
          "high school",
          "associate's degree",
          "bachelor's degree",
          "high school",
          "associate's degree",
          "bachelor's degree",
          "associate's degree",
          "high school",
          "some college",
          "some high school",
          "high school",
          "some college",
          "some college",
          "some college",
          "some high school",
          "high school",
          "associate's degree",
          "associate's degree",
          "bachelor's degree",
          "some college",
          "associate's degree",
          "some high school",
          "high school",
          "high school",
          "some college",
          "high school",
          "some college",
          "high school",
          "associate's degree",
          "bachelor's degree",
          "some college",
          "associate's degree",
          "some college",
          "bachelor's degree",
          "associate's degree",
          "some college",
          "some college",
          "high school",
          "some college",
          "some high school",
          "some college",
          "bachelor's degree",
          "some high school",
          "some high school",
          "some college",
          "some high school",
          "bachelor's degree",
          "associate's degree",
          "some high school",
          "some high school",
          "bachelor's degree",
          "associate's degree",
          "master's degree",
          "some high school",
          "some high school",
          "some college",
          "bachelor's degree",
          "associate's degree",
          "high school",
          "master's degree",
          "some college",
          "some college",
          "high school",
          "high school",
          "associate's degree",
          "some high school",
          "some high school",
          "some college",
          "some college",
          "high school",
          "some high school",
          "associate's degree",
          "associate's degree",
          "high school",
          "associate's degree",
          "some college",
          "some college",
          "some college",
          "bachelor's degree",
          "some high school",
          "some high school",
          "some high school",
          "associate's degree",
          "high school",
          "high school",
          "some high school",
          "some high school",
          "associate's degree",
          "associate's degree",
          "high school",
          "high school",
          "some high school",
          "associate's degree",
          "some high school",
          "some college",
          "high school",
          "associate's degree",
          "some college",
          "associate's degree",
          "some college",
          "associate's degree",
          "bachelor's degree",
          "bachelor's degree",
          "associate's degree",
          "bachelor's degree",
          "bachelor's degree",
          "some college",
          "some college",
          "some college",
          "some college",
          "associate's degree",
          "some college",
          "high school",
          "some high school",
          "associate's degree",
          "master's degree",
          "associate's degree",
          "associate's degree",
          "some college",
          "high school",
          "associate's degree",
          "high school",
          "some college",
          "associate's degree",
          "associate's degree",
          "associate's degree",
          "some college",
          "bachelor's degree",
          "high school",
          "some college",
          "some high school",
          "some college",
          "master's degree",
          "some college",
          "master's degree",
          "some high school",
          "high school",
          "bachelor's degree",
          "master's degree",
          "bachelor's degree",
          "some college",
          "some high school",
          "some high school",
          "some college",
          "some college",
          "associate's degree",
          "bachelor's degree",
          "master's degree",
          "some college",
          "high school",
          "bachelor's degree",
          "associate's degree",
          "some high school",
          "high school",
          "associate's degree",
          "associate's degree",
          "master's degree",
          "high school",
          "master's degree",
          "some high school",
          "associate's degree",
          "some college",
          "associate's degree",
          "some college",
          "master's degree",
          "associate's degree",
          "some high school",
          "some college",
          "bachelor's degree",
          "associate's degree",
          "high school",
          "bachelor's degree",
          "bachelor's degree",
          "some college",
          "high school",
          "high school",
          "master's degree",
          "some high school",
          "some high school",
          "bachelor's degree",
          "some college",
          "associate's degree",
          "high school",
          "bachelor's degree",
          "some college",
          "some high school",
          "some college",
          "some high school",
          "bachelor's degree",
          "high school",
          "high school",
          "some high school",
          "high school",
          "some high school",
          "master's degree",
          "high school",
          "some college",
          "high school",
          "some high school",
          "associate's degree",
          "master's degree",
          "some college",
          "associate's degree",
          "some college",
          "associate's degree",
          "associate's degree",
          "high school",
          "bachelor's degree",
          "bachelor's degree",
          "master's degree",
          "high school",
          "bachelor's degree",
          "bachelor's degree",
          "associate's degree",
          "some college",
          "some college",
          "high school",
          "high school",
          "some high school",
          "high school",
          "some college",
          "associate's degree",
          "high school",
          "some high school",
          "high school",
          "associate's degree",
          "high school",
          "high school",
          "some high school",
          "some college",
          "associate's degree",
          "some high school",
          "associate's degree",
          "associate's degree",
          "some college",
          "some high school",
          "some college",
          "high school",
          "associate's degree",
          "bachelor's degree",
          "some college",
          "high school",
          "associate's degree",
          "some college",
          "associate's degree",
          "some college",
          "high school",
          "high school",
          "high school",
          "associate's degree",
          "high school",
          "some college",
          "associate's degree",
          "associate's degree",
          "associate's degree",
          "some high school",
          "some college",
          "bachelor's degree",
          "high school",
          "some high school",
          "some college",
          "bachelor's degree",
          "high school",
          "some college",
          "high school",
          "some college",
          "master's degree",
          "high school",
          "some college",
          "high school",
          "some college",
          "high school",
          "some college",
          "some high school",
          "some high school",
          "some college",
          "master's degree",
          "associate's degree",
          "associate's degree",
          "high school",
          "bachelor's degree",
          "associate's degree",
          "high school",
          "some college",
          "associate's degree",
          "high school",
          "some college",
          "bachelor's degree",
          "some college",
          "associate's degree",
          "associate's degree",
          "some college",
          "high school",
          "some high school",
          "high school",
          "some college",
          "high school",
          "some high school",
          "some college",
          "high school",
          "bachelor's degree",
          "bachelor's degree",
          "some college",
          "some high school",
          "high school",
          "some college",
          "associate's degree",
          "master's degree",
          "some high school",
          "some college",
          "associate's degree",
          "master's degree",
          "high school",
          "some college",
          "high school",
          "high school",
          "high school",
          "associate's degree",
          "some college",
          "associate's degree",
          "associate's degree",
          "some college",
          "some college",
          "some college",
          "some college",
          "high school",
          "high school",
          "bachelor's degree",
          "some high school",
          "high school",
          "high school",
          "bachelor's degree",
          "high school",
          "some high school",
          "bachelor's degree",
          "high school",
          "some high school",
          "high school",
          "some high school",
          "some high school",
          "some college",
          "bachelor's degree",
          "some college",
          "high school",
          "associate's degree",
          "high school",
          "some high school",
          "master's degree",
          "high school",
          "high school",
          "associate's degree",
          "master's degree",
          "high school",
          "some college",
          "some high school",
          "some high school",
          "bachelor's degree",
          "some college",
          "bachelor's degree",
          "associate's degree",
          "associate's degree",
          "master's degree",
          "associate's degree",
          "high school",
          "associate's degree",
          "associate's degree",
          "high school",
          "associate's degree",
          "bachelor's degree",
          "some college",
          "some college",
          "some high school",
          "some high school",
          "associate's degree",
          "high school",
          "bachelor's degree",
          "associate's degree",
          "high school",
          "some college",
          "high school",
          "associate's degree",
          "master's degree",
          "associate's degree",
          "some high school",
          "high school",
          "master's degree",
          "master's degree",
          "some high school",
          "some college",
          "high school",
          "bachelor's degree",
          "bachelor's degree",
          "some college",
          "associate's degree",
          "some college",
          "high school",
          "high school",
          "high school",
          "high school",
          "associate's degree",
          "high school",
          "associate's degree",
          "some high school",
          "some college",
          "some college",
          "associate's degree",
          "high school",
          "master's degree",
          "high school",
          "high school",
          "associate's degree",
          "high school",
          "some college",
          "high school",
          "some high school",
          "some college",
          "associate's degree",
          "some college",
          "master's degree",
          "high school",
          "high school",
          "some college",
          "some high school",
          "associate's degree",
          "some college",
          "some college",
          "some college",
          "associate's degree",
          "bachelor's degree",
          "bachelor's degree",
          "some college",
          "some college",
          "associate's degree",
          "associate's degree",
          "high school",
          "some high school",
          "some high school",
          "high school",
          "associate's degree",
          "some high school",
          "associate's degree",
          "bachelor's degree",
          "high school",
          "high school",
          "some college"
         ],
         "xaxis": "x",
         "y": [
          72.66666666666667,
          92.66666666666667,
          49.333333333333336,
          76.33333333333333,
          77.33333333333333,
          40.666666666666664,
          49.333333333333336,
          54.666666666666664,
          45,
          73,
          53.666666666666664,
          74,
          87.66666666666667,
          26,
          57.666666666666664,
          66,
          50.333333333333336,
          71.66666666666667,
          73,
          59.333333333333336,
          70.33333333333333,
          68.33333333333333,
          69,
          72.33333333333333,
          63,
          64.33333333333333,
          40,
          88.66666666666667,
          79.33333333333333,
          57.666666666666664,
          56.666666666666664,
          56.666666666666664,
          66.33333333333333,
          58.666666666666664,
          53.333333333333336,
          58.666666666666664,
          71,
          52,
          46.333333333333336,
          80.33333333333333,
          39,
          52,
          9,
          37.333333333333336,
          59.333333333333336,
          73.33333333333333,
          58.666666666666664,
          64,
          39.666666666666664,
          68.66666666666667,
          58.333333333333336,
          53.333333333333336,
          46.666666666666664,
          58,
          46.333333333333336,
          41,
          26,
          66,
          48.666666666666664,
          46.333333333333336,
          66.33333333333333,
          38.333333333333336,
          78.33333333333333,
          82.33333333333333,
          72,
          65,
          80.33333333333333,
          70.33333333333333,
          32.333333333333336,
          73.66666666666667,
          85.66666666666667,
          62.333333333333336,
          64.66666666666667,
          71,
          88.33333333333333,
          65.66666666666667,
          95.66666666666667,
          66,
          68.66666666666667,
          55.333333333333336,
          51.333333333333336,
          54.333333333333336,
          78.33333333333333,
          80.66666666666667,
          79.66666666666667,
          58.333333333333336,
          63,
          58.666666666666664,
          78.66666666666667,
          89.33333333333333,
          69,
          79.33333333333333,
          50.333333333333336,
          85,
          53.666666666666664,
          60.333333333333336,
          64,
          73,
          61.666666666666664,
          49,
          79.66666666666667,
          31.333333333333332,
          82.33333333333333,
          69,
          70.66666666666667,
          50,
          63.333333333333336,
          60,
          64,
          51.333333333333336,
          51.333333333333336,
          88,
          86.66666666666667,
          82,
          66.66666666666667,
          58.666666666666664,
          49,
          68,
          73.66666666666667,
          48.333333333333336,
          84,
          66.66666666666667,
          64,
          56,
          54,
          51,
          77.66666666666667,
          74.33333333333333,
          71.66666666666667,
          64.66666666666667,
          47.333333333333336,
          68.66666666666667,
          77,
          61.666666666666664,
          30,
          54.666666666666664,
          38.333333333333336,
          71,
          81.66666666666667,
          60.666666666666664,
          80.33333333333333,
          51.666666666666664,
          71.66666666666667,
          53.666666666666664,
          68,
          68.66666666666667,
          43.666666666666664,
          78.66666666666667,
          85.66666666666667,
          77.33333333333333,
          65.33333333333333,
          52.333333333333336,
          81.33333333333333,
          82,
          54.333333333333336,
          51,
          72.66666666666667,
          77.33333333333333,
          79.66666666666667,
          63.666666666666664,
          60.333333333333336,
          79,
          77.33333333333333,
          52.666666666666664,
          68.33333333333333,
          68.33333333333333,
          74.33333333333333,
          48.333333333333336,
          94,
          72.33333333333333,
          47.333333333333336,
          73,
          72.66666666666667,
          72.33333333333333,
          64.33333333333333,
          49.666666666666664,
          52.666666666666664,
          68.66666666666667,
          78,
          77,
          62,
          49,
          46.333333333333336,
          78.66666666666667,
          43,
          79.33333333333333,
          79.66666666666667,
          71.33333333333333,
          76.33333333333333,
          71,
          63,
          84,
          54,
          73.33333333333333,
          68.33333333333333,
          49,
          63.666666666666664,
          52.666666666666664,
          76.33333333333333,
          61,
          67.33333333333333,
          77.66666666666667,
          67.66666666666667,
          61.333333333333336,
          80,
          77.33333333333333,
          49.666666666666664,
          43.333333333333336,
          88.66666666666667,
          61.333333333333336,
          23.333333333333332,
          49,
          64,
          39.666666666666664,
          83,
          90.33333333333333,
          65,
          47.666666666666664,
          29.666666666666668,
          57,
          65.66666666666667,
          73,
          75.66666666666667,
          60,
          71.66666666666667,
          79,
          62,
          58.333333333333336,
          53.666666666666664,
          66.66666666666667,
          67.66666666666667,
          61.666666666666664,
          60.666666666666664,
          86.33333333333333,
          59.666666666666664,
          56,
          31,
          59,
          62.666666666666664,
          55.333333333333336,
          80.66666666666667,
          77.33333333333333,
          73.33333333333333,
          67.33333333333333,
          43.333333333333336,
          84,
          77,
          64,
          83,
          77,
          44,
          41.333333333333336,
          72.66666666666667,
          69,
          67.33333333333333,
          63.333333333333336,
          72.66666666666667,
          74,
          70,
          44.666666666666664,
          60,
          89.66666666666667,
          64.66666666666667,
          57.666666666666664,
          46.333333333333336,
          56.333333333333336,
          58.333333333333336,
          68,
          79.66666666666667,
          65.66666666666667,
          75.33333333333333,
          71.33333333333333,
          63,
          38,
          63.666666666666664,
          85,
          68.33333333333333,
          59,
          61.666666666666664,
          63,
          67.66666666666667,
          57.333333333333336,
          52,
          68.33333333333333,
          69,
          71.33333333333333,
          59,
          79.66666666666667,
          67,
          77.33333333333333,
          78,
          65,
          45,
          75.33333333333333,
          96.33333333333333,
          72,
          57.333333333333336,
          58.666666666666664,
          46.666666666666664,
          85.66666666666667,
          51.666666666666664,
          100,
          55.333333333333336,
          51,
          72.33333333333333,
          86,
          87.33333333333333,
          31.666666666666668,
          80.33333333333333,
          68.66666666666667,
          62.333333333333336,
          73.33333333333333,
          63,
          71.33333333333333,
          55.666666666666664,
          65.66666666666667,
          52.333333333333336,
          51.666666666666664,
          71.66666666666667,
          54.666666666666664,
          69.66666666666667,
          75.33333333333333,
          66,
          85.33333333333333,
          86.33333333333333,
          62,
          51.333333333333336,
          67.66666666666667,
          73,
          78.33333333333333,
          59.333333333333336,
          51,
          81.33333333333333,
          68,
          56,
          78,
          88.33333333333333,
          73.33333333333333,
          52.333333333333336,
          54.333333333333336,
          82.33333333333333,
          57.333333333333336,
          87,
          61.333333333333336,
          54.333333333333336,
          62.333333333333336,
          44,
          39,
          68.66666666666667,
          51.333333333333336,
          59.666666666666664,
          79,
          88.66666666666667,
          64.33333333333333,
          64.33333333333333,
          73.33333333333333,
          73.33333333333333,
          46,
          67.66666666666667,
          46,
          34.666666666666664,
          64.66666666666667,
          64.33333333333333,
          67,
          70.33333333333333,
          48.333333333333336,
          45.333333333333336,
          52.666666666666664,
          67.66666666666667,
          93,
          57,
          75.33333333333333,
          87,
          60.666666666666664,
          91.33333333333333,
          78.66666666666667,
          71.33333333333333,
          74.33333333333333,
          72.33333333333333,
          67,
          56.333333333333336,
          61,
          59.666666666666664,
          56.333333333333336,
          61,
          66.66666666666667,
          74.33333333333333,
          23,
          51.666666666666664,
          73,
          76,
          59,
          29.333333333333332,
          78,
          56,
          69.66666666666667,
          83.66666666666667,
          50.666666666666664,
          62.333333333333336,
          62,
          61,
          72,
          89.33333333333333,
          66.66666666666667,
          40,
          83,
          86.66666666666667,
          50,
          60.333333333333336,
          60.333333333333336,
          51.666666666666664,
          50.666666666666664,
          67,
          68,
          82.66666666666667,
          82.66666666666667,
          69.66666666666667,
          78.66666666666667,
          74.33333333333333,
          48,
          77.33333333333333,
          65,
          64.66666666666667,
          64.66666666666667,
          52.666666666666664,
          77,
          65.33333333333333,
          69.33333333333333,
          65.33333333333333,
          53.666666666666664,
          87.33333333333333,
          74.66666666666667,
          67.33333333333333,
          65,
          67,
          68.66666666666667,
          83,
          69.33333333333333,
          70,
          53,
          74.33333333333333,
          78,
          61.333333333333336,
          71,
          62.666666666666664,
          57,
          76,
          51.666666666666664,
          88.66666666666667,
          51.666666666666664,
          75.66666666666667,
          75.66666666666667,
          56,
          84.66666666666667,
          67,
          63.666666666666664,
          65.33333333333333,
          64.66666666666667,
          66.33333333333333,
          38.666666666666664,
          59,
          85,
          99,
          82,
          75.33333333333333,
          68,
          46.666666666666664,
          43.666666666666664,
          83,
          43,
          48,
          48.666666666666664,
          56,
          61,
          85,
          75,
          58.666666666666664,
          75,
          50,
          82.33333333333333,
          52.333333333333336,
          75,
          71.66666666666667,
          67,
          56.333333333333336,
          68.33333333333333,
          55.333333333333336,
          90.33333333333333,
          55,
          63,
          53.333333333333336,
          62.333333333333336,
          60.666666666666664,
          72.66666666666667,
          71.33333333333333,
          58.333333333333336,
          49.666666666666664,
          74,
          73,
          63.666666666666664,
          54,
          69.33333333333333,
          40.666666666666664,
          53,
          83.66666666666667,
          76,
          29.666666666666668,
          64.66666666666667,
          59.333333333333336,
          56.666666666666664,
          65.33333333333333,
          69.66666666666667,
          48.333333333333336,
          70,
          78.33333333333333,
          61,
          54.666666666666664,
          92,
          84.66666666666667,
          75.66666666666667,
          76.66666666666667,
          71,
          42,
          78,
          54.666666666666664,
          39.333333333333336,
          47,
          78.33333333333333,
          56,
          66.66666666666667,
          85.33333333333333,
          87,
          80,
          52.666666666666664,
          62.333333333333336,
          70,
          58.333333333333336,
          59.333333333333336,
          60.666666666666664,
          51,
          64.66666666666667,
          72,
          45.666666666666664,
          57.666666666666664,
          86.33333333333333,
          56,
          66.33333333333333,
          74.66666666666667,
          68.33333333333333,
          64,
          88.33333333333333,
          70,
          60.333333333333336,
          96.66666666666667,
          69.33333333333333,
          75,
          77.33333333333333,
          56,
          84.66666666666667,
          93.66666666666667,
          54.666666666666664,
          48,
          50.333333333333336,
          54.666666666666664,
          87.33333333333333,
          55.333333333333336,
          70,
          82.33333333333333,
          57.333333333333336,
          70.33333333333333,
          71.33333333333333,
          69.33333333333333,
          48.333333333333336,
          52,
          61.666666666666664,
          69.33333333333333,
          47.666666666666664,
          87.33333333333333,
          63.333333333333336,
          63.333333333333336,
          34.666666666666664,
          30.666666666666668,
          86,
          75,
          78.33333333333333,
          80.66666666666667,
          52,
          71.33333333333333,
          46.666666666666664,
          78.33333333333333,
          54,
          68,
          52.333333333333336,
          68.66666666666667,
          44.666666666666664,
          68,
          61.333333333333336,
          71,
          57.333333333333336,
          51.666666666666664,
          60.333333333333336,
          63.666666666666664,
          59,
          57.333333333333336,
          88.33333333333333,
          70.33333333333333,
          62.333333333333336,
          57.666666666666664,
          81.33333333333333,
          55.666666666666664,
          79.33333333333333,
          73.33333333333333,
          66.66666666666667,
          63.666666666666664,
          84,
          97.33333333333333,
          55.666666666666664,
          75.66666666666667,
          59.333333333333336,
          51.666666666666664,
          100,
          62.333333333333336,
          68,
          62,
          70.33333333333333,
          79.66666666666667,
          96.33333333333333,
          58.333333333333336,
          61.333333333333336,
          61.666666666666664,
          93.33333333333333,
          18.333333333333332,
          79,
          77,
          54,
          50,
          44.666666666666664,
          69,
          69.33333333333333,
          62.666666666666664,
          57.333333333333336,
          83
         ],
         "yaxis": "y"
        },
        {
         "alignmentgroup": "True",
         "hovertemplate": "test_prep_course=completed<br>parent_education_level=%{x}<br>avg_score=%{y}<extra></extra>",
         "legendgroup": "completed",
         "marker": {
          "color": "#EF553B",
          "pattern": {
           "shape": ""
          }
         },
         "name": "completed",
         "offsetgroup": "completed",
         "orientation": "v",
         "showlegend": true,
         "textposition": "auto",
         "type": "bar",
         "x": [
          "some college",
          "some college",
          "high school",
          "some college",
          "master's degree",
          "some college",
          "bachelor's degree",
          "associate's degree",
          "associate's degree",
          "some college",
          "associate's degree",
          "associate's degree",
          "high school",
          "associate's degree",
          "some high school",
          "associate's degree",
          "some college",
          "bachelor's degree",
          "some college",
          "some college",
          "bachelor's degree",
          "some high school",
          "some college",
          "associate's degree",
          "associate's degree",
          "some high school",
          "some college",
          "bachelor's degree",
          "high school",
          "some college",
          "associate's degree",
          "associate's degree",
          "bachelor's degree",
          "bachelor's degree",
          "associate's degree",
          "some college",
          "some college",
          "some high school",
          "some college",
          "some college",
          "bachelor's degree",
          "some high school",
          "some college",
          "some college",
          "bachelor's degree",
          "associate's degree",
          "some high school",
          "associate's degree",
          "some college",
          "high school",
          "associate's degree",
          "associate's degree",
          "some college",
          "bachelor's degree",
          "high school",
          "master's degree",
          "high school",
          "some college",
          "high school",
          "bachelor's degree",
          "master's degree",
          "high school",
          "associate's degree",
          "master's degree",
          "some high school",
          "master's degree",
          "some high school",
          "associate's degree",
          "some high school",
          "some college",
          "some college",
          "master's degree",
          "some high school",
          "associate's degree",
          "some high school",
          "high school",
          "some high school",
          "associate's degree",
          "high school",
          "some high school",
          "associate's degree",
          "some high school",
          "high school",
          "associate's degree",
          "some college",
          "bachelor's degree",
          "some high school",
          "high school",
          "high school",
          "some high school",
          "some high school",
          "associate's degree",
          "master's degree",
          "some high school",
          "some college",
          "associate's degree",
          "some college",
          "some high school",
          "high school",
          "some college",
          "associate's degree",
          "associate's degree",
          "some high school",
          "some high school",
          "high school",
          "some high school",
          "associate's degree",
          "high school",
          "some college",
          "associate's degree",
          "associate's degree",
          "some college",
          "bachelor's degree",
          "associate's degree",
          "bachelor's degree",
          "master's degree",
          "high school",
          "associate's degree",
          "associate's degree",
          "some high school",
          "some high school",
          "high school",
          "associate's degree",
          "bachelor's degree",
          "some college",
          "some college",
          "some high school",
          "bachelor's degree",
          "high school",
          "some college",
          "some college",
          "master's degree",
          "associate's degree",
          "some high school",
          "associate's degree",
          "some high school",
          "some high school",
          "high school",
          "associate's degree",
          "high school",
          "associate's degree",
          "master's degree",
          "some college",
          "some high school",
          "bachelor's degree",
          "bachelor's degree",
          "high school",
          "associate's degree",
          "high school",
          "master's degree",
          "some high school",
          "some college",
          "some high school",
          "some college",
          "some high school",
          "high school",
          "some college",
          "high school",
          "bachelor's degree",
          "high school",
          "high school",
          "associate's degree",
          "associate's degree",
          "associate's degree",
          "bachelor's degree",
          "bachelor's degree",
          "high school",
          "some high school",
          "associate's degree",
          "high school",
          "some college",
          "associate's degree",
          "associate's degree",
          "some high school",
          "master's degree",
          "some high school",
          "some college",
          "some high school",
          "high school",
          "high school",
          "some high school",
          "associate's degree",
          "associate's degree",
          "associate's degree",
          "high school",
          "bachelor's degree",
          "associate's degree",
          "bachelor's degree",
          "associate's degree",
          "high school",
          "associate's degree",
          "some high school",
          "some high school",
          "high school",
          "bachelor's degree",
          "associate's degree",
          "some college",
          "bachelor's degree",
          "some college",
          "bachelor's degree",
          "master's degree",
          "some college",
          "high school",
          "associate's degree",
          "some college",
          "some college",
          "associate's degree",
          "bachelor's degree",
          "bachelor's degree",
          "master's degree",
          "some college",
          "bachelor's degree",
          "associate's degree",
          "high school",
          "some college",
          "some college",
          "associate's degree",
          "some high school",
          "bachelor's degree",
          "high school",
          "some high school",
          "associate's degree",
          "high school",
          "bachelor's degree",
          "some college",
          "some high school",
          "high school",
          "some college",
          "associate's degree",
          "some high school",
          "some college",
          "associate's degree",
          "associate's degree",
          "high school",
          "some college",
          "some college",
          "some high school",
          "some high school",
          "some college",
          "master's degree",
          "some college",
          "bachelor's degree",
          "associate's degree",
          "associate's degree",
          "bachelor's degree",
          "bachelor's degree",
          "some high school",
          "associate's degree",
          "some college",
          "some high school",
          "some high school",
          "associate's degree",
          "associate's degree",
          "associate's degree",
          "associate's degree",
          "some high school",
          "some high school",
          "some college",
          "associate's degree",
          "some high school",
          "associate's degree",
          "some college",
          "some college",
          "associate's degree",
          "some college",
          "some high school",
          "master's degree",
          "some high school",
          "bachelor's degree",
          "some college",
          "some college",
          "some high school",
          "high school",
          "high school",
          "some high school",
          "some college",
          "associate's degree",
          "high school",
          "associate's degree",
          "bachelor's degree",
          "some high school",
          "some high school",
          "associate's degree",
          "some high school",
          "some high school",
          "master's degree",
          "some high school",
          "some high school",
          "bachelor's degree",
          "some high school",
          "some college",
          "associate's degree",
          "some high school",
          "bachelor's degree",
          "high school",
          "high school",
          "high school",
          "associate's degree",
          "high school",
          "some college",
          "some high school",
          "master's degree",
          "high school",
          "bachelor's degree",
          "some college",
          "some college",
          "associate's degree",
          "some college",
          "associate's degree",
          "bachelor's degree",
          "bachelor's degree",
          "associate's degree",
          "associate's degree",
          "some college",
          "some high school",
          "some high school",
          "associate's degree",
          "some high school",
          "high school",
          "bachelor's degree",
          "some college",
          "bachelor's degree",
          "bachelor's degree",
          "bachelor's degree",
          "bachelor's degree",
          "associate's degree",
          "some college",
          "some high school",
          "high school",
          "associate's degree",
          "some college",
          "associate's degree",
          "bachelor's degree",
          "associate's degree",
          "some college",
          "some high school",
          "master's degree",
          "some high school",
          "some high school",
          "high school",
          "some college",
          "high school",
          "some high school",
          "some high school",
          "some high school",
          "high school",
          "some college",
          "some college",
          "high school",
          "some high school",
          "some college",
          "some high school",
          "some college",
          "high school",
          "some high school",
          "master's degree",
          "high school",
          "some college"
         ],
         "xaxis": "x",
         "y": [
          82.33333333333333,
          91.66666666666667,
          65,
          73.33333333333333,
          44.666666666666664,
          70,
          75,
          80.33333333333333,
          84.33333333333333,
          63.333333333333336,
          60.666666666666664,
          69,
          82.66666666666667,
          71.33333333333333,
          80.66666666666667,
          84.33333333333333,
          58.333333333333336,
          75,
          64.66666666666667,
          60.333333333333336,
          79.66666666666667,
          69,
          50.333333333333336,
          46,
          80.33333333333333,
          64.33333333333333,
          68.33333333333333,
          72,
          50.333333333333336,
          91.33333333333333,
          64.33333333333333,
          88,
          99.66666666666667,
          86.66666666666667,
          90.66666666666667,
          91.33333333333333,
          72,
          43.333333333333336,
          77,
          80,
          76,
          48.666666666666664,
          67,
          50.333333333333336,
          74.66666666666667,
          97.66666666666667,
          66,
          65,
          82.33333333333333,
          72.66666666666667,
          78,
          78,
          82.66666666666667,
          98.66666666666667,
          51.666666666666664,
          70.66666666666667,
          76.33333333333333,
          70.66666666666667,
          73,
          49.333333333333336,
          86.33333333333333,
          52.666666666666664,
          75,
          61.333333333333336,
          99,
          68.33333333333333,
          48.666666666666664,
          65.66666666666667,
          65.33333333333333,
          79.33333333333333,
          67,
          79.33333333333333,
          64.33333333333333,
          79,
          74.33333333333333,
          79,
          79.33333333333333,
          55.666666666666664,
          86.33333333333333,
          80.66666666666667,
          85.66666666666667,
          57.666666666666664,
          66,
          63.666666666666664,
          92.33333333333333,
          83,
          66,
          69,
          65.33333333333333,
          48.333333333333336,
          66.66666666666667,
          77.33333333333333,
          75.66666666666667,
          73.33333333333333,
          78.66666666666667,
          91.66666666666667,
          83,
          90,
          65.66666666666667,
          75.33333333333333,
          81.66666666666667,
          89,
          76.66666666666667,
          60,
          78.33333333333333,
          43.333333333333336,
          71,
          45.333333333333336,
          80,
          77.33333333333333,
          77.33333333333333,
          89,
          65.33333333333333,
          68,
          66,
          83.33333333333333,
          76.66666666666667,
          78,
          57,
          71.66666666666667,
          50,
          73,
          68.66666666666667,
          88.66666666666667,
          73.66666666666667,
          59,
          82.33333333333333,
          55.666666666666664,
          60,
          62.666666666666664,
          91.66666666666667,
          93.33333333333333,
          94,
          66.33333333333333,
          55.666666666666664,
          72,
          60,
          95.66666666666667,
          64.33333333333333,
          55,
          85.33333333333333,
          71.66666666666667,
          81.66666666666667,
          65.66666666666667,
          67.33333333333333,
          71,
          55.666666666666664,
          89.33333333333333,
          59.666666666666664,
          57.333333333333336,
          74.66666666666667,
          50.333333333333336,
          86.33333333333333,
          75.66666666666667,
          72.66666666666667,
          82.33333333333333,
          78,
          68.33333333333333,
          65,
          68,
          83.33333333333333,
          86,
          79.33333333333333,
          90.33333333333333,
          76.66666666666667,
          68,
          70.66666666666667,
          58,
          81,
          66,
          71,
          91,
          92,
          59,
          89.33333333333333,
          82.66666666666667,
          71,
          74,
          74.66666666666667,
          51.333333333333336,
          59,
          69.33333333333333,
          60.333333333333336,
          87,
          70,
          77.33333333333333,
          56.333333333333336,
          74,
          91.66666666666667,
          70.66666666666667,
          80.33333333333333,
          80.33333333333333,
          96.33333333333333,
          67.66666666666667,
          88.33333333333333,
          68.66666666666667,
          76,
          92.66666666666667,
          74.33333333333333,
          97.33333333333333,
          70,
          72,
          60,
          49.333333333333336,
          54.666666666666664,
          54,
          76,
          97,
          69,
          87.66666666666667,
          64,
          91.66666666666667,
          68.66666666666667,
          53.666666666666664,
          94,
          98.66666666666667,
          67.33333333333333,
          50,
          73.66666666666667,
          76,
          86.66666666666667,
          84,
          77.66666666666667,
          75.66666666666667,
          76.33333333333333,
          53.333333333333336,
          74.66666666666667,
          89.66666666666667,
          69.66666666666667,
          56.666666666666664,
          69,
          76.66666666666667,
          77.66666666666667,
          74.66666666666667,
          60,
          75.66666666666667,
          76,
          37.666666666666664,
          65.33333333333333,
          97.66666666666667,
          76,
          73.66666666666667,
          82.33333333333333,
          71.33333333333333,
          80.66666666666667,
          86,
          62,
          53.666666666666664,
          89,
          83.33333333333333,
          68,
          85.66666666666667,
          74.33333333333333,
          97,
          81.33333333333333,
          57.666666666666664,
          84,
          75.33333333333333,
          72.33333333333333,
          58.666666666666664,
          75,
          90,
          64,
          68,
          85.66666666666667,
          69.33333333333333,
          77,
          84,
          70,
          58.666666666666664,
          74.33333333333333,
          81.66666666666667,
          70,
          66,
          63.666666666666664,
          77.66666666666667,
          87,
          81,
          57.666666666666664,
          83.66666666666667,
          42.333333333333336,
          83.33333333333333,
          66,
          69.33333333333333,
          76.33333333333333,
          61.666666666666664,
          82.33333333333333,
          89,
          69,
          89,
          50.666666666666664,
          64.66666666666667,
          78.66666666666667,
          83,
          82.66666666666667,
          66,
          78.66666666666667,
          56,
          34.333333333333336,
          75.66666666666667,
          56.333333333333336,
          87,
          49,
          39.666666666666664,
          74,
          84,
          74.66666666666667,
          72.66666666666667,
          81.33333333333333,
          64.33333333333333,
          70.33333333333333,
          72.66666666666667,
          96,
          87.33333333333333,
          79,
          73.33333333333333,
          61.333333333333336,
          75,
          41,
          97.66666666666667,
          84.66666666666667,
          68,
          59.666666666666664,
          58.333333333333336,
          100,
          71.33333333333333,
          92.66666666666667,
          66,
          65.66666666666667,
          44.333333333333336,
          70.33333333333333,
          68.33333333333333,
          73,
          91.66666666666667,
          83.66666666666667,
          71.33333333333333,
          70,
          61.333333333333336,
          50.333333333333336,
          68.33333333333333,
          78.33333333333333,
          54.666666666666664,
          72,
          66,
          73,
          54.333333333333336,
          74.33333333333333,
          60.666666666666664,
          48,
          83.33333333333333,
          85.33333333333333,
          77.33333333333333,
          78.66666666666667,
          80.66666666666667,
          75,
          94,
          65,
          74.33333333333333
         ],
         "yaxis": "y"
        }
       ],
       "layout": {
        "barmode": "relative",
        "legend": {
         "title": {
          "text": "test_prep_course"
         },
         "tracegroupgap": 0
        },
        "margin": {
         "t": 60
        },
        "template": {
         "data": {
          "bar": [
           {
            "error_x": {
             "color": "#2a3f5f"
            },
            "error_y": {
             "color": "#2a3f5f"
            },
            "marker": {
             "line": {
              "color": "#E5ECF6",
              "width": 0.5
             },
             "pattern": {
              "fillmode": "overlay",
              "size": 10,
              "solidity": 0.2
             }
            },
            "type": "bar"
           }
          ],
          "barpolar": [
           {
            "marker": {
             "line": {
              "color": "#E5ECF6",
              "width": 0.5
             },
             "pattern": {
              "fillmode": "overlay",
              "size": 10,
              "solidity": 0.2
             }
            },
            "type": "barpolar"
           }
          ],
          "carpet": [
           {
            "aaxis": {
             "endlinecolor": "#2a3f5f",
             "gridcolor": "white",
             "linecolor": "white",
             "minorgridcolor": "white",
             "startlinecolor": "#2a3f5f"
            },
            "baxis": {
             "endlinecolor": "#2a3f5f",
             "gridcolor": "white",
             "linecolor": "white",
             "minorgridcolor": "white",
             "startlinecolor": "#2a3f5f"
            },
            "type": "carpet"
           }
          ],
          "choropleth": [
           {
            "colorbar": {
             "outlinewidth": 0,
             "ticks": ""
            },
            "type": "choropleth"
           }
          ],
          "contour": [
           {
            "colorbar": {
             "outlinewidth": 0,
             "ticks": ""
            },
            "colorscale": [
             [
              0,
              "#0d0887"
             ],
             [
              0.1111111111111111,
              "#46039f"
             ],
             [
              0.2222222222222222,
              "#7201a8"
             ],
             [
              0.3333333333333333,
              "#9c179e"
             ],
             [
              0.4444444444444444,
              "#bd3786"
             ],
             [
              0.5555555555555556,
              "#d8576b"
             ],
             [
              0.6666666666666666,
              "#ed7953"
             ],
             [
              0.7777777777777778,
              "#fb9f3a"
             ],
             [
              0.8888888888888888,
              "#fdca26"
             ],
             [
              1,
              "#f0f921"
             ]
            ],
            "type": "contour"
           }
          ],
          "contourcarpet": [
           {
            "colorbar": {
             "outlinewidth": 0,
             "ticks": ""
            },
            "type": "contourcarpet"
           }
          ],
          "heatmap": [
           {
            "colorbar": {
             "outlinewidth": 0,
             "ticks": ""
            },
            "colorscale": [
             [
              0,
              "#0d0887"
             ],
             [
              0.1111111111111111,
              "#46039f"
             ],
             [
              0.2222222222222222,
              "#7201a8"
             ],
             [
              0.3333333333333333,
              "#9c179e"
             ],
             [
              0.4444444444444444,
              "#bd3786"
             ],
             [
              0.5555555555555556,
              "#d8576b"
             ],
             [
              0.6666666666666666,
              "#ed7953"
             ],
             [
              0.7777777777777778,
              "#fb9f3a"
             ],
             [
              0.8888888888888888,
              "#fdca26"
             ],
             [
              1,
              "#f0f921"
             ]
            ],
            "type": "heatmap"
           }
          ],
          "heatmapgl": [
           {
            "colorbar": {
             "outlinewidth": 0,
             "ticks": ""
            },
            "colorscale": [
             [
              0,
              "#0d0887"
             ],
             [
              0.1111111111111111,
              "#46039f"
             ],
             [
              0.2222222222222222,
              "#7201a8"
             ],
             [
              0.3333333333333333,
              "#9c179e"
             ],
             [
              0.4444444444444444,
              "#bd3786"
             ],
             [
              0.5555555555555556,
              "#d8576b"
             ],
             [
              0.6666666666666666,
              "#ed7953"
             ],
             [
              0.7777777777777778,
              "#fb9f3a"
             ],
             [
              0.8888888888888888,
              "#fdca26"
             ],
             [
              1,
              "#f0f921"
             ]
            ],
            "type": "heatmapgl"
           }
          ],
          "histogram": [
           {
            "marker": {
             "pattern": {
              "fillmode": "overlay",
              "size": 10,
              "solidity": 0.2
             }
            },
            "type": "histogram"
           }
          ],
          "histogram2d": [
           {
            "colorbar": {
             "outlinewidth": 0,
             "ticks": ""
            },
            "colorscale": [
             [
              0,
              "#0d0887"
             ],
             [
              0.1111111111111111,
              "#46039f"
             ],
             [
              0.2222222222222222,
              "#7201a8"
             ],
             [
              0.3333333333333333,
              "#9c179e"
             ],
             [
              0.4444444444444444,
              "#bd3786"
             ],
             [
              0.5555555555555556,
              "#d8576b"
             ],
             [
              0.6666666666666666,
              "#ed7953"
             ],
             [
              0.7777777777777778,
              "#fb9f3a"
             ],
             [
              0.8888888888888888,
              "#fdca26"
             ],
             [
              1,
              "#f0f921"
             ]
            ],
            "type": "histogram2d"
           }
          ],
          "histogram2dcontour": [
           {
            "colorbar": {
             "outlinewidth": 0,
             "ticks": ""
            },
            "colorscale": [
             [
              0,
              "#0d0887"
             ],
             [
              0.1111111111111111,
              "#46039f"
             ],
             [
              0.2222222222222222,
              "#7201a8"
             ],
             [
              0.3333333333333333,
              "#9c179e"
             ],
             [
              0.4444444444444444,
              "#bd3786"
             ],
             [
              0.5555555555555556,
              "#d8576b"
             ],
             [
              0.6666666666666666,
              "#ed7953"
             ],
             [
              0.7777777777777778,
              "#fb9f3a"
             ],
             [
              0.8888888888888888,
              "#fdca26"
             ],
             [
              1,
              "#f0f921"
             ]
            ],
            "type": "histogram2dcontour"
           }
          ],
          "mesh3d": [
           {
            "colorbar": {
             "outlinewidth": 0,
             "ticks": ""
            },
            "type": "mesh3d"
           }
          ],
          "parcoords": [
           {
            "line": {
             "colorbar": {
              "outlinewidth": 0,
              "ticks": ""
             }
            },
            "type": "parcoords"
           }
          ],
          "pie": [
           {
            "automargin": true,
            "type": "pie"
           }
          ],
          "scatter": [
           {
            "marker": {
             "colorbar": {
              "outlinewidth": 0,
              "ticks": ""
             }
            },
            "type": "scatter"
           }
          ],
          "scatter3d": [
           {
            "line": {
             "colorbar": {
              "outlinewidth": 0,
              "ticks": ""
             }
            },
            "marker": {
             "colorbar": {
              "outlinewidth": 0,
              "ticks": ""
             }
            },
            "type": "scatter3d"
           }
          ],
          "scattercarpet": [
           {
            "marker": {
             "colorbar": {
              "outlinewidth": 0,
              "ticks": ""
             }
            },
            "type": "scattercarpet"
           }
          ],
          "scattergeo": [
           {
            "marker": {
             "colorbar": {
              "outlinewidth": 0,
              "ticks": ""
             }
            },
            "type": "scattergeo"
           }
          ],
          "scattergl": [
           {
            "marker": {
             "colorbar": {
              "outlinewidth": 0,
              "ticks": ""
             }
            },
            "type": "scattergl"
           }
          ],
          "scattermapbox": [
           {
            "marker": {
             "colorbar": {
              "outlinewidth": 0,
              "ticks": ""
             }
            },
            "type": "scattermapbox"
           }
          ],
          "scatterpolar": [
           {
            "marker": {
             "colorbar": {
              "outlinewidth": 0,
              "ticks": ""
             }
            },
            "type": "scatterpolar"
           }
          ],
          "scatterpolargl": [
           {
            "marker": {
             "colorbar": {
              "outlinewidth": 0,
              "ticks": ""
             }
            },
            "type": "scatterpolargl"
           }
          ],
          "scatterternary": [
           {
            "marker": {
             "colorbar": {
              "outlinewidth": 0,
              "ticks": ""
             }
            },
            "type": "scatterternary"
           }
          ],
          "surface": [
           {
            "colorbar": {
             "outlinewidth": 0,
             "ticks": ""
            },
            "colorscale": [
             [
              0,
              "#0d0887"
             ],
             [
              0.1111111111111111,
              "#46039f"
             ],
             [
              0.2222222222222222,
              "#7201a8"
             ],
             [
              0.3333333333333333,
              "#9c179e"
             ],
             [
              0.4444444444444444,
              "#bd3786"
             ],
             [
              0.5555555555555556,
              "#d8576b"
             ],
             [
              0.6666666666666666,
              "#ed7953"
             ],
             [
              0.7777777777777778,
              "#fb9f3a"
             ],
             [
              0.8888888888888888,
              "#fdca26"
             ],
             [
              1,
              "#f0f921"
             ]
            ],
            "type": "surface"
           }
          ],
          "table": [
           {
            "cells": {
             "fill": {
              "color": "#EBF0F8"
             },
             "line": {
              "color": "white"
             }
            },
            "header": {
             "fill": {
              "color": "#C8D4E3"
             },
             "line": {
              "color": "white"
             }
            },
            "type": "table"
           }
          ]
         },
         "layout": {
          "annotationdefaults": {
           "arrowcolor": "#2a3f5f",
           "arrowhead": 0,
           "arrowwidth": 1
          },
          "autotypenumbers": "strict",
          "coloraxis": {
           "colorbar": {
            "outlinewidth": 0,
            "ticks": ""
           }
          },
          "colorscale": {
           "diverging": [
            [
             0,
             "#8e0152"
            ],
            [
             0.1,
             "#c51b7d"
            ],
            [
             0.2,
             "#de77ae"
            ],
            [
             0.3,
             "#f1b6da"
            ],
            [
             0.4,
             "#fde0ef"
            ],
            [
             0.5,
             "#f7f7f7"
            ],
            [
             0.6,
             "#e6f5d0"
            ],
            [
             0.7,
             "#b8e186"
            ],
            [
             0.8,
             "#7fbc41"
            ],
            [
             0.9,
             "#4d9221"
            ],
            [
             1,
             "#276419"
            ]
           ],
           "sequential": [
            [
             0,
             "#0d0887"
            ],
            [
             0.1111111111111111,
             "#46039f"
            ],
            [
             0.2222222222222222,
             "#7201a8"
            ],
            [
             0.3333333333333333,
             "#9c179e"
            ],
            [
             0.4444444444444444,
             "#bd3786"
            ],
            [
             0.5555555555555556,
             "#d8576b"
            ],
            [
             0.6666666666666666,
             "#ed7953"
            ],
            [
             0.7777777777777778,
             "#fb9f3a"
            ],
            [
             0.8888888888888888,
             "#fdca26"
            ],
            [
             1,
             "#f0f921"
            ]
           ],
           "sequentialminus": [
            [
             0,
             "#0d0887"
            ],
            [
             0.1111111111111111,
             "#46039f"
            ],
            [
             0.2222222222222222,
             "#7201a8"
            ],
            [
             0.3333333333333333,
             "#9c179e"
            ],
            [
             0.4444444444444444,
             "#bd3786"
            ],
            [
             0.5555555555555556,
             "#d8576b"
            ],
            [
             0.6666666666666666,
             "#ed7953"
            ],
            [
             0.7777777777777778,
             "#fb9f3a"
            ],
            [
             0.8888888888888888,
             "#fdca26"
            ],
            [
             1,
             "#f0f921"
            ]
           ]
          },
          "colorway": [
           "#636efa",
           "#EF553B",
           "#00cc96",
           "#ab63fa",
           "#FFA15A",
           "#19d3f3",
           "#FF6692",
           "#B6E880",
           "#FF97FF",
           "#FECB52"
          ],
          "font": {
           "color": "#2a3f5f"
          },
          "geo": {
           "bgcolor": "white",
           "lakecolor": "white",
           "landcolor": "#E5ECF6",
           "showlakes": true,
           "showland": true,
           "subunitcolor": "white"
          },
          "hoverlabel": {
           "align": "left"
          },
          "hovermode": "closest",
          "mapbox": {
           "style": "light"
          },
          "paper_bgcolor": "white",
          "plot_bgcolor": "#E5ECF6",
          "polar": {
           "angularaxis": {
            "gridcolor": "white",
            "linecolor": "white",
            "ticks": ""
           },
           "bgcolor": "#E5ECF6",
           "radialaxis": {
            "gridcolor": "white",
            "linecolor": "white",
            "ticks": ""
           }
          },
          "scene": {
           "xaxis": {
            "backgroundcolor": "#E5ECF6",
            "gridcolor": "white",
            "gridwidth": 2,
            "linecolor": "white",
            "showbackground": true,
            "ticks": "",
            "zerolinecolor": "white"
           },
           "yaxis": {
            "backgroundcolor": "#E5ECF6",
            "gridcolor": "white",
            "gridwidth": 2,
            "linecolor": "white",
            "showbackground": true,
            "ticks": "",
            "zerolinecolor": "white"
           },
           "zaxis": {
            "backgroundcolor": "#E5ECF6",
            "gridcolor": "white",
            "gridwidth": 2,
            "linecolor": "white",
            "showbackground": true,
            "ticks": "",
            "zerolinecolor": "white"
           }
          },
          "shapedefaults": {
           "line": {
            "color": "#2a3f5f"
           }
          },
          "ternary": {
           "aaxis": {
            "gridcolor": "white",
            "linecolor": "white",
            "ticks": ""
           },
           "baxis": {
            "gridcolor": "white",
            "linecolor": "white",
            "ticks": ""
           },
           "bgcolor": "#E5ECF6",
           "caxis": {
            "gridcolor": "white",
            "linecolor": "white",
            "ticks": ""
           }
          },
          "title": {
           "x": 0.05
          },
          "xaxis": {
           "automargin": true,
           "gridcolor": "white",
           "linecolor": "white",
           "ticks": "",
           "title": {
            "standoff": 15
           },
           "zerolinecolor": "white",
           "zerolinewidth": 2
          },
          "yaxis": {
           "automargin": true,
           "gridcolor": "white",
           "linecolor": "white",
           "ticks": "",
           "title": {
            "standoff": 15
           },
           "zerolinecolor": "white",
           "zerolinewidth": 2
          }
         }
        },
        "xaxis": {
         "anchor": "y",
         "autorange": true,
         "domain": [
          0,
          1
         ],
         "range": [
          -0.5,
          5.5
         ],
         "title": {
          "text": "parent_education_level"
         },
         "type": "category"
        },
        "yaxis": {
         "anchor": "x",
         "autorange": true,
         "domain": [
          0,
          1
         ],
         "range": [
          0,
          16290.175438596496
         ],
         "title": {
          "text": "avg_score"
         },
         "type": "linear"
        }
       }
      },
      "text/html": [
       "<div>                            <div id=\"08326d6f-77ac-4174-a879-52218ffff7a5\" class=\"plotly-graph-div\" style=\"height:525px; width:100%;\"></div>            <script type=\"text/javascript\">                require([\"plotly\"], function(Plotly) {                    window.PLOTLYENV=window.PLOTLYENV || {};                                    if (document.getElementById(\"08326d6f-77ac-4174-a879-52218ffff7a5\")) {                    Plotly.newPlot(                        \"08326d6f-77ac-4174-a879-52218ffff7a5\",                        [{\"alignmentgroup\":\"True\",\"hovertemplate\":\"test_prep_course=none<br>parent_education_level=%{x}<br>avg_score=%{y}<extra></extra>\",\"legendgroup\":\"none\",\"marker\":{\"color\":\"#636efa\",\"pattern\":{\"shape\":\"\"}},\"name\":\"none\",\"offsetgroup\":\"none\",\"orientation\":\"v\",\"showlegend\":true,\"textposition\":\"auto\",\"type\":\"bar\",\"x\":[\"bachelor's degree\",\"master's degree\",\"associate's degree\",\"some college\",\"associate's degree\",\"some college\",\"high school\",\"associate's degree\",\"associate's degree\",\"high school\",\"master's degree\",\"some high school\",\"high school\",\"some high school\",\"associate's degree\",\"high school\",\"some college\",\"some high school\",\"master's degree\",\"some college\",\"bachelor's degree\",\"high school\",\"master's degree\",\"some college\",\"some college\",\"master's degree\",\"some college\",\"some college\",\"associate's degree\",\"some high school\",\"associate's degree\",\"associate's degree\",\"associate's degree\",\"associate's degree\",\"associate's degree\",\"associate's degree\",\"high school\",\"some college\",\"some college\",\"high school\",\"high school\",\"associate's degree\",\"some high school\",\"some high school\",\"associate's degree\",\"associate's degree\",\"some high school\",\"some high school\",\"some high school\",\"some college\",\"associate's degree\",\"associate's degree\",\"associate's degree\",\"some high school\",\"some high school\",\"associate's degree\",\"some high school\",\"master's degree\",\"associate's degree\",\"high school\",\"associate's degree\",\"high school\",\"some college\",\"some college\",\"associate's degree\",\"some college\",\"some high school\",\"bachelor's degree\",\"high school\",\"high school\",\"some college\",\"some college\",\"bachelor's degree\",\"some college\",\"associate's degree\",\"some college\",\"master's degree\",\"associate's degree\",\"some high school\",\"high school\",\"associate's degree\",\"some college\",\"high school\",\"bachelor's degree\",\"bachelor's degree\",\"some high school\",\"some college\",\"high school\",\"some college\",\"high school\",\"some high school\",\"master's degree\",\"bachelor's degree\",\"master's degree\",\"bachelor's degree\",\"high school\",\"associate's degree\",\"some high school\",\"some college\",\"high school\",\"some college\",\"some college\",\"some high school\",\"associate's degree\",\"bachelor's degree\",\"bachelor's degree\",\"some high school\",\"some college\",\"associate's degree\",\"master's degree\",\"high school\",\"master's degree\",\"some high school\",\"some college\",\"associate's degree\",\"some college\",\"high school\",\"associate's degree\",\"high school\",\"some high school\",\"bachelor's degree\",\"associate's degree\",\"some high school\",\"associate's degree\",\"high school\",\"some college\",\"bachelor's degree\",\"some college\",\"associate's degree\",\"associate's degree\",\"some college\",\"bachelor's degree\",\"some college\",\"some college\",\"some college\",\"high school\",\"high school\",\"high school\",\"associate's degree\",\"some high school\",\"some high school\",\"master's degree\",\"some college\",\"high school\",\"some high school\",\"some college\",\"associate's degree\",\"bachelor's degree\",\"some high school\",\"associate's degree\",\"bachelor's degree\",\"some college\",\"associate's degree\",\"bachelor's degree\",\"high school\",\"some college\",\"some high school\",\"associate's degree\",\"associate's degree\",\"high school\",\"high school\",\"some college\",\"master's degree\",\"high school\",\"some college\",\"associate's degree\",\"some college\",\"some high school\",\"high school\",\"high school\",\"some high school\",\"bachelor's degree\",\"high school\",\"some college\",\"bachelor's degree\",\"some college\",\"associate's degree\",\"some college\",\"bachelor's degree\",\"some high school\",\"bachelor's degree\",\"high school\",\"high school\",\"bachelor's degree\",\"some high school\",\"some high school\",\"bachelor's degree\",\"associate's degree\",\"some high school\",\"bachelor's degree\",\"associate's degree\",\"associate's degree\",\"some high school\",\"associate's degree\",\"some college\",\"some high school\",\"associate's degree\",\"high school\",\"associate's degree\",\"bachelor's degree\",\"high school\",\"associate's degree\",\"bachelor's degree\",\"associate's degree\",\"high school\",\"some college\",\"some high school\",\"high school\",\"some college\",\"some college\",\"some college\",\"some high school\",\"high school\",\"associate's degree\",\"associate's degree\",\"bachelor's degree\",\"some college\",\"associate's degree\",\"some high school\",\"high school\",\"high school\",\"some college\",\"high school\",\"some college\",\"high school\",\"associate's degree\",\"bachelor's degree\",\"some college\",\"associate's degree\",\"some college\",\"bachelor's degree\",\"associate's degree\",\"some college\",\"some college\",\"high school\",\"some college\",\"some high school\",\"some college\",\"bachelor's degree\",\"some high school\",\"some high school\",\"some college\",\"some high school\",\"bachelor's degree\",\"associate's degree\",\"some high school\",\"some high school\",\"bachelor's degree\",\"associate's degree\",\"master's degree\",\"some high school\",\"some high school\",\"some college\",\"bachelor's degree\",\"associate's degree\",\"high school\",\"master's degree\",\"some college\",\"some college\",\"high school\",\"high school\",\"associate's degree\",\"some high school\",\"some high school\",\"some college\",\"some college\",\"high school\",\"some high school\",\"associate's degree\",\"associate's degree\",\"high school\",\"associate's degree\",\"some college\",\"some college\",\"some college\",\"bachelor's degree\",\"some high school\",\"some high school\",\"some high school\",\"associate's degree\",\"high school\",\"high school\",\"some high school\",\"some high school\",\"associate's degree\",\"associate's degree\",\"high school\",\"high school\",\"some high school\",\"associate's degree\",\"some high school\",\"some college\",\"high school\",\"associate's degree\",\"some college\",\"associate's degree\",\"some college\",\"associate's degree\",\"bachelor's degree\",\"bachelor's degree\",\"associate's degree\",\"bachelor's degree\",\"bachelor's degree\",\"some college\",\"some college\",\"some college\",\"some college\",\"associate's degree\",\"some college\",\"high school\",\"some high school\",\"associate's degree\",\"master's degree\",\"associate's degree\",\"associate's degree\",\"some college\",\"high school\",\"associate's degree\",\"high school\",\"some college\",\"associate's degree\",\"associate's degree\",\"associate's degree\",\"some college\",\"bachelor's degree\",\"high school\",\"some college\",\"some high school\",\"some college\",\"master's degree\",\"some college\",\"master's degree\",\"some high school\",\"high school\",\"bachelor's degree\",\"master's degree\",\"bachelor's degree\",\"some college\",\"some high school\",\"some high school\",\"some college\",\"some college\",\"associate's degree\",\"bachelor's degree\",\"master's degree\",\"some college\",\"high school\",\"bachelor's degree\",\"associate's degree\",\"some high school\",\"high school\",\"associate's degree\",\"associate's degree\",\"master's degree\",\"high school\",\"master's degree\",\"some high school\",\"associate's degree\",\"some college\",\"associate's degree\",\"some college\",\"master's degree\",\"associate's degree\",\"some high school\",\"some college\",\"bachelor's degree\",\"associate's degree\",\"high school\",\"bachelor's degree\",\"bachelor's degree\",\"some college\",\"high school\",\"high school\",\"master's degree\",\"some high school\",\"some high school\",\"bachelor's degree\",\"some college\",\"associate's degree\",\"high school\",\"bachelor's degree\",\"some college\",\"some high school\",\"some college\",\"some high school\",\"bachelor's degree\",\"high school\",\"high school\",\"some high school\",\"high school\",\"some high school\",\"master's degree\",\"high school\",\"some college\",\"high school\",\"some high school\",\"associate's degree\",\"master's degree\",\"some college\",\"associate's degree\",\"some college\",\"associate's degree\",\"associate's degree\",\"high school\",\"bachelor's degree\",\"bachelor's degree\",\"master's degree\",\"high school\",\"bachelor's degree\",\"bachelor's degree\",\"associate's degree\",\"some college\",\"some college\",\"high school\",\"high school\",\"some high school\",\"high school\",\"some college\",\"associate's degree\",\"high school\",\"some high school\",\"high school\",\"associate's degree\",\"high school\",\"high school\",\"some high school\",\"some college\",\"associate's degree\",\"some high school\",\"associate's degree\",\"associate's degree\",\"some college\",\"some high school\",\"some college\",\"high school\",\"associate's degree\",\"bachelor's degree\",\"some college\",\"high school\",\"associate's degree\",\"some college\",\"associate's degree\",\"some college\",\"high school\",\"high school\",\"high school\",\"associate's degree\",\"high school\",\"some college\",\"associate's degree\",\"associate's degree\",\"associate's degree\",\"some high school\",\"some college\",\"bachelor's degree\",\"high school\",\"some high school\",\"some college\",\"bachelor's degree\",\"high school\",\"some college\",\"high school\",\"some college\",\"master's degree\",\"high school\",\"some college\",\"high school\",\"some college\",\"high school\",\"some college\",\"some high school\",\"some high school\",\"some college\",\"master's degree\",\"associate's degree\",\"associate's degree\",\"high school\",\"bachelor's degree\",\"associate's degree\",\"high school\",\"some college\",\"associate's degree\",\"high school\",\"some college\",\"bachelor's degree\",\"some college\",\"associate's degree\",\"associate's degree\",\"some college\",\"high school\",\"some high school\",\"high school\",\"some college\",\"high school\",\"some high school\",\"some college\",\"high school\",\"bachelor's degree\",\"bachelor's degree\",\"some college\",\"some high school\",\"high school\",\"some college\",\"associate's degree\",\"master's degree\",\"some high school\",\"some college\",\"associate's degree\",\"master's degree\",\"high school\",\"some college\",\"high school\",\"high school\",\"high school\",\"associate's degree\",\"some college\",\"associate's degree\",\"associate's degree\",\"some college\",\"some college\",\"some college\",\"some college\",\"high school\",\"high school\",\"bachelor's degree\",\"some high school\",\"high school\",\"high school\",\"bachelor's degree\",\"high school\",\"some high school\",\"bachelor's degree\",\"high school\",\"some high school\",\"high school\",\"some high school\",\"some high school\",\"some college\",\"bachelor's degree\",\"some college\",\"high school\",\"associate's degree\",\"high school\",\"some high school\",\"master's degree\",\"high school\",\"high school\",\"associate's degree\",\"master's degree\",\"high school\",\"some college\",\"some high school\",\"some high school\",\"bachelor's degree\",\"some college\",\"bachelor's degree\",\"associate's degree\",\"associate's degree\",\"master's degree\",\"associate's degree\",\"high school\",\"associate's degree\",\"associate's degree\",\"high school\",\"associate's degree\",\"bachelor's degree\",\"some college\",\"some college\",\"some high school\",\"some high school\",\"associate's degree\",\"high school\",\"bachelor's degree\",\"associate's degree\",\"high school\",\"some college\",\"high school\",\"associate's degree\",\"master's degree\",\"associate's degree\",\"some high school\",\"high school\",\"master's degree\",\"master's degree\",\"some high school\",\"some college\",\"high school\",\"bachelor's degree\",\"bachelor's degree\",\"some college\",\"associate's degree\",\"some college\",\"high school\",\"high school\",\"high school\",\"high school\",\"associate's degree\",\"high school\",\"associate's degree\",\"some high school\",\"some college\",\"some college\",\"associate's degree\",\"high school\",\"master's degree\",\"high school\",\"high school\",\"associate's degree\",\"high school\",\"some college\",\"high school\",\"some high school\",\"some college\",\"associate's degree\",\"some college\",\"master's degree\",\"high school\",\"high school\",\"some college\",\"some high school\",\"associate's degree\",\"some college\",\"some college\",\"some college\",\"associate's degree\",\"bachelor's degree\",\"bachelor's degree\",\"some college\",\"some college\",\"associate's degree\",\"associate's degree\",\"high school\",\"some high school\",\"some high school\",\"high school\",\"associate's degree\",\"some high school\",\"associate's degree\",\"bachelor's degree\",\"high school\",\"high school\",\"some college\"],\"xaxis\":\"x\",\"y\":[72.66666666666667,92.66666666666667,49.333333333333336,76.33333333333333,77.33333333333333,40.666666666666664,49.333333333333336,54.666666666666664,45.0,73.0,53.666666666666664,74.0,87.66666666666667,26.0,57.666666666666664,66.0,50.333333333333336,71.66666666666667,73.0,59.333333333333336,70.33333333333333,68.33333333333333,69.0,72.33333333333333,63.0,64.33333333333333,40.0,88.66666666666667,79.33333333333333,57.666666666666664,56.666666666666664,56.666666666666664,66.33333333333333,58.666666666666664,53.333333333333336,58.666666666666664,71.0,52.0,46.333333333333336,80.33333333333333,39.0,52.0,9.0,37.333333333333336,59.333333333333336,73.33333333333333,58.666666666666664,64.0,39.666666666666664,68.66666666666667,58.333333333333336,53.333333333333336,46.666666666666664,58.0,46.333333333333336,41.0,26.0,66.0,48.666666666666664,46.333333333333336,66.33333333333333,38.333333333333336,78.33333333333333,82.33333333333333,72.0,65.0,80.33333333333333,70.33333333333333,32.333333333333336,73.66666666666667,85.66666666666667,62.333333333333336,64.66666666666667,71.0,88.33333333333333,65.66666666666667,95.66666666666667,66.0,68.66666666666667,55.333333333333336,51.333333333333336,54.333333333333336,78.33333333333333,80.66666666666667,79.66666666666667,58.333333333333336,63.0,58.666666666666664,78.66666666666667,89.33333333333333,69.0,79.33333333333333,50.333333333333336,85.0,53.666666666666664,60.333333333333336,64.0,73.0,61.666666666666664,49.0,79.66666666666667,31.333333333333332,82.33333333333333,69.0,70.66666666666667,50.0,63.333333333333336,60.0,64.0,51.333333333333336,51.333333333333336,88.0,86.66666666666667,82.0,66.66666666666667,58.666666666666664,49.0,68.0,73.66666666666667,48.333333333333336,84.0,66.66666666666667,64.0,56.0,54.0,51.0,77.66666666666667,74.33333333333333,71.66666666666667,64.66666666666667,47.333333333333336,68.66666666666667,77.0,61.666666666666664,30.0,54.666666666666664,38.333333333333336,71.0,81.66666666666667,60.666666666666664,80.33333333333333,51.666666666666664,71.66666666666667,53.666666666666664,68.0,68.66666666666667,43.666666666666664,78.66666666666667,85.66666666666667,77.33333333333333,65.33333333333333,52.333333333333336,81.33333333333333,82.0,54.333333333333336,51.0,72.66666666666667,77.33333333333333,79.66666666666667,63.666666666666664,60.333333333333336,79.0,77.33333333333333,52.666666666666664,68.33333333333333,68.33333333333333,74.33333333333333,48.333333333333336,94.0,72.33333333333333,47.333333333333336,73.0,72.66666666666667,72.33333333333333,64.33333333333333,49.666666666666664,52.666666666666664,68.66666666666667,78.0,77.0,62.0,49.0,46.333333333333336,78.66666666666667,43.0,79.33333333333333,79.66666666666667,71.33333333333333,76.33333333333333,71.0,63.0,84.0,54.0,73.33333333333333,68.33333333333333,49.0,63.666666666666664,52.666666666666664,76.33333333333333,61.0,67.33333333333333,77.66666666666667,67.66666666666667,61.333333333333336,80.0,77.33333333333333,49.666666666666664,43.333333333333336,88.66666666666667,61.333333333333336,23.333333333333332,49.0,64.0,39.666666666666664,83.0,90.33333333333333,65.0,47.666666666666664,29.666666666666668,57.0,65.66666666666667,73.0,75.66666666666667,60.0,71.66666666666667,79.0,62.0,58.333333333333336,53.666666666666664,66.66666666666667,67.66666666666667,61.666666666666664,60.666666666666664,86.33333333333333,59.666666666666664,56.0,31.0,59.0,62.666666666666664,55.333333333333336,80.66666666666667,77.33333333333333,73.33333333333333,67.33333333333333,43.333333333333336,84.0,77.0,64.0,83.0,77.0,44.0,41.333333333333336,72.66666666666667,69.0,67.33333333333333,63.333333333333336,72.66666666666667,74.0,70.0,44.666666666666664,60.0,89.66666666666667,64.66666666666667,57.666666666666664,46.333333333333336,56.333333333333336,58.333333333333336,68.0,79.66666666666667,65.66666666666667,75.33333333333333,71.33333333333333,63.0,38.0,63.666666666666664,85.0,68.33333333333333,59.0,61.666666666666664,63.0,67.66666666666667,57.333333333333336,52.0,68.33333333333333,69.0,71.33333333333333,59.0,79.66666666666667,67.0,77.33333333333333,78.0,65.0,45.0,75.33333333333333,96.33333333333333,72.0,57.333333333333336,58.666666666666664,46.666666666666664,85.66666666666667,51.666666666666664,100.0,55.333333333333336,51.0,72.33333333333333,86.0,87.33333333333333,31.666666666666668,80.33333333333333,68.66666666666667,62.333333333333336,73.33333333333333,63.0,71.33333333333333,55.666666666666664,65.66666666666667,52.333333333333336,51.666666666666664,71.66666666666667,54.666666666666664,69.66666666666667,75.33333333333333,66.0,85.33333333333333,86.33333333333333,62.0,51.333333333333336,67.66666666666667,73.0,78.33333333333333,59.333333333333336,51.0,81.33333333333333,68.0,56.0,78.0,88.33333333333333,73.33333333333333,52.333333333333336,54.333333333333336,82.33333333333333,57.333333333333336,87.0,61.333333333333336,54.333333333333336,62.333333333333336,44.0,39.0,68.66666666666667,51.333333333333336,59.666666666666664,79.0,88.66666666666667,64.33333333333333,64.33333333333333,73.33333333333333,73.33333333333333,46.0,67.66666666666667,46.0,34.666666666666664,64.66666666666667,64.33333333333333,67.0,70.33333333333333,48.333333333333336,45.333333333333336,52.666666666666664,67.66666666666667,93.0,57.0,75.33333333333333,87.0,60.666666666666664,91.33333333333333,78.66666666666667,71.33333333333333,74.33333333333333,72.33333333333333,67.0,56.333333333333336,61.0,59.666666666666664,56.333333333333336,61.0,66.66666666666667,74.33333333333333,23.0,51.666666666666664,73.0,76.0,59.0,29.333333333333332,78.0,56.0,69.66666666666667,83.66666666666667,50.666666666666664,62.333333333333336,62.0,61.0,72.0,89.33333333333333,66.66666666666667,40.0,83.0,86.66666666666667,50.0,60.333333333333336,60.333333333333336,51.666666666666664,50.666666666666664,67.0,68.0,82.66666666666667,82.66666666666667,69.66666666666667,78.66666666666667,74.33333333333333,48.0,77.33333333333333,65.0,64.66666666666667,64.66666666666667,52.666666666666664,77.0,65.33333333333333,69.33333333333333,65.33333333333333,53.666666666666664,87.33333333333333,74.66666666666667,67.33333333333333,65.0,67.0,68.66666666666667,83.0,69.33333333333333,70.0,53.0,74.33333333333333,78.0,61.333333333333336,71.0,62.666666666666664,57.0,76.0,51.666666666666664,88.66666666666667,51.666666666666664,75.66666666666667,75.66666666666667,56.0,84.66666666666667,67.0,63.666666666666664,65.33333333333333,64.66666666666667,66.33333333333333,38.666666666666664,59.0,85.0,99.0,82.0,75.33333333333333,68.0,46.666666666666664,43.666666666666664,83.0,43.0,48.0,48.666666666666664,56.0,61.0,85.0,75.0,58.666666666666664,75.0,50.0,82.33333333333333,52.333333333333336,75.0,71.66666666666667,67.0,56.333333333333336,68.33333333333333,55.333333333333336,90.33333333333333,55.0,63.0,53.333333333333336,62.333333333333336,60.666666666666664,72.66666666666667,71.33333333333333,58.333333333333336,49.666666666666664,74.0,73.0,63.666666666666664,54.0,69.33333333333333,40.666666666666664,53.0,83.66666666666667,76.0,29.666666666666668,64.66666666666667,59.333333333333336,56.666666666666664,65.33333333333333,69.66666666666667,48.333333333333336,70.0,78.33333333333333,61.0,54.666666666666664,92.0,84.66666666666667,75.66666666666667,76.66666666666667,71.0,42.0,78.0,54.666666666666664,39.333333333333336,47.0,78.33333333333333,56.0,66.66666666666667,85.33333333333333,87.0,80.0,52.666666666666664,62.333333333333336,70.0,58.333333333333336,59.333333333333336,60.666666666666664,51.0,64.66666666666667,72.0,45.666666666666664,57.666666666666664,86.33333333333333,56.0,66.33333333333333,74.66666666666667,68.33333333333333,64.0,88.33333333333333,70.0,60.333333333333336,96.66666666666667,69.33333333333333,75.0,77.33333333333333,56.0,84.66666666666667,93.66666666666667,54.666666666666664,48.0,50.333333333333336,54.666666666666664,87.33333333333333,55.333333333333336,70.0,82.33333333333333,57.333333333333336,70.33333333333333,71.33333333333333,69.33333333333333,48.333333333333336,52.0,61.666666666666664,69.33333333333333,47.666666666666664,87.33333333333333,63.333333333333336,63.333333333333336,34.666666666666664,30.666666666666668,86.0,75.0,78.33333333333333,80.66666666666667,52.0,71.33333333333333,46.666666666666664,78.33333333333333,54.0,68.0,52.333333333333336,68.66666666666667,44.666666666666664,68.0,61.333333333333336,71.0,57.333333333333336,51.666666666666664,60.333333333333336,63.666666666666664,59.0,57.333333333333336,88.33333333333333,70.33333333333333,62.333333333333336,57.666666666666664,81.33333333333333,55.666666666666664,79.33333333333333,73.33333333333333,66.66666666666667,63.666666666666664,84.0,97.33333333333333,55.666666666666664,75.66666666666667,59.333333333333336,51.666666666666664,100.0,62.333333333333336,68.0,62.0,70.33333333333333,79.66666666666667,96.33333333333333,58.333333333333336,61.333333333333336,61.666666666666664,93.33333333333333,18.333333333333332,79.0,77.0,54.0,50.0,44.666666666666664,69.0,69.33333333333333,62.666666666666664,57.333333333333336,83.0],\"yaxis\":\"y\"},{\"alignmentgroup\":\"True\",\"hovertemplate\":\"test_prep_course=completed<br>parent_education_level=%{x}<br>avg_score=%{y}<extra></extra>\",\"legendgroup\":\"completed\",\"marker\":{\"color\":\"#EF553B\",\"pattern\":{\"shape\":\"\"}},\"name\":\"completed\",\"offsetgroup\":\"completed\",\"orientation\":\"v\",\"showlegend\":true,\"textposition\":\"auto\",\"type\":\"bar\",\"x\":[\"some college\",\"some college\",\"high school\",\"some college\",\"master's degree\",\"some college\",\"bachelor's degree\",\"associate's degree\",\"associate's degree\",\"some college\",\"associate's degree\",\"associate's degree\",\"high school\",\"associate's degree\",\"some high school\",\"associate's degree\",\"some college\",\"bachelor's degree\",\"some college\",\"some college\",\"bachelor's degree\",\"some high school\",\"some college\",\"associate's degree\",\"associate's degree\",\"some high school\",\"some college\",\"bachelor's degree\",\"high school\",\"some college\",\"associate's degree\",\"associate's degree\",\"bachelor's degree\",\"bachelor's degree\",\"associate's degree\",\"some college\",\"some college\",\"some high school\",\"some college\",\"some college\",\"bachelor's degree\",\"some high school\",\"some college\",\"some college\",\"bachelor's degree\",\"associate's degree\",\"some high school\",\"associate's degree\",\"some college\",\"high school\",\"associate's degree\",\"associate's degree\",\"some college\",\"bachelor's degree\",\"high school\",\"master's degree\",\"high school\",\"some college\",\"high school\",\"bachelor's degree\",\"master's degree\",\"high school\",\"associate's degree\",\"master's degree\",\"some high school\",\"master's degree\",\"some high school\",\"associate's degree\",\"some high school\",\"some college\",\"some college\",\"master's degree\",\"some high school\",\"associate's degree\",\"some high school\",\"high school\",\"some high school\",\"associate's degree\",\"high school\",\"some high school\",\"associate's degree\",\"some high school\",\"high school\",\"associate's degree\",\"some college\",\"bachelor's degree\",\"some high school\",\"high school\",\"high school\",\"some high school\",\"some high school\",\"associate's degree\",\"master's degree\",\"some high school\",\"some college\",\"associate's degree\",\"some college\",\"some high school\",\"high school\",\"some college\",\"associate's degree\",\"associate's degree\",\"some high school\",\"some high school\",\"high school\",\"some high school\",\"associate's degree\",\"high school\",\"some college\",\"associate's degree\",\"associate's degree\",\"some college\",\"bachelor's degree\",\"associate's degree\",\"bachelor's degree\",\"master's degree\",\"high school\",\"associate's degree\",\"associate's degree\",\"some high school\",\"some high school\",\"high school\",\"associate's degree\",\"bachelor's degree\",\"some college\",\"some college\",\"some high school\",\"bachelor's degree\",\"high school\",\"some college\",\"some college\",\"master's degree\",\"associate's degree\",\"some high school\",\"associate's degree\",\"some high school\",\"some high school\",\"high school\",\"associate's degree\",\"high school\",\"associate's degree\",\"master's degree\",\"some college\",\"some high school\",\"bachelor's degree\",\"bachelor's degree\",\"high school\",\"associate's degree\",\"high school\",\"master's degree\",\"some high school\",\"some college\",\"some high school\",\"some college\",\"some high school\",\"high school\",\"some college\",\"high school\",\"bachelor's degree\",\"high school\",\"high school\",\"associate's degree\",\"associate's degree\",\"associate's degree\",\"bachelor's degree\",\"bachelor's degree\",\"high school\",\"some high school\",\"associate's degree\",\"high school\",\"some college\",\"associate's degree\",\"associate's degree\",\"some high school\",\"master's degree\",\"some high school\",\"some college\",\"some high school\",\"high school\",\"high school\",\"some high school\",\"associate's degree\",\"associate's degree\",\"associate's degree\",\"high school\",\"bachelor's degree\",\"associate's degree\",\"bachelor's degree\",\"associate's degree\",\"high school\",\"associate's degree\",\"some high school\",\"some high school\",\"high school\",\"bachelor's degree\",\"associate's degree\",\"some college\",\"bachelor's degree\",\"some college\",\"bachelor's degree\",\"master's degree\",\"some college\",\"high school\",\"associate's degree\",\"some college\",\"some college\",\"associate's degree\",\"bachelor's degree\",\"bachelor's degree\",\"master's degree\",\"some college\",\"bachelor's degree\",\"associate's degree\",\"high school\",\"some college\",\"some college\",\"associate's degree\",\"some high school\",\"bachelor's degree\",\"high school\",\"some high school\",\"associate's degree\",\"high school\",\"bachelor's degree\",\"some college\",\"some high school\",\"high school\",\"some college\",\"associate's degree\",\"some high school\",\"some college\",\"associate's degree\",\"associate's degree\",\"high school\",\"some college\",\"some college\",\"some high school\",\"some high school\",\"some college\",\"master's degree\",\"some college\",\"bachelor's degree\",\"associate's degree\",\"associate's degree\",\"bachelor's degree\",\"bachelor's degree\",\"some high school\",\"associate's degree\",\"some college\",\"some high school\",\"some high school\",\"associate's degree\",\"associate's degree\",\"associate's degree\",\"associate's degree\",\"some high school\",\"some high school\",\"some college\",\"associate's degree\",\"some high school\",\"associate's degree\",\"some college\",\"some college\",\"associate's degree\",\"some college\",\"some high school\",\"master's degree\",\"some high school\",\"bachelor's degree\",\"some college\",\"some college\",\"some high school\",\"high school\",\"high school\",\"some high school\",\"some college\",\"associate's degree\",\"high school\",\"associate's degree\",\"bachelor's degree\",\"some high school\",\"some high school\",\"associate's degree\",\"some high school\",\"some high school\",\"master's degree\",\"some high school\",\"some high school\",\"bachelor's degree\",\"some high school\",\"some college\",\"associate's degree\",\"some high school\",\"bachelor's degree\",\"high school\",\"high school\",\"high school\",\"associate's degree\",\"high school\",\"some college\",\"some high school\",\"master's degree\",\"high school\",\"bachelor's degree\",\"some college\",\"some college\",\"associate's degree\",\"some college\",\"associate's degree\",\"bachelor's degree\",\"bachelor's degree\",\"associate's degree\",\"associate's degree\",\"some college\",\"some high school\",\"some high school\",\"associate's degree\",\"some high school\",\"high school\",\"bachelor's degree\",\"some college\",\"bachelor's degree\",\"bachelor's degree\",\"bachelor's degree\",\"bachelor's degree\",\"associate's degree\",\"some college\",\"some high school\",\"high school\",\"associate's degree\",\"some college\",\"associate's degree\",\"bachelor's degree\",\"associate's degree\",\"some college\",\"some high school\",\"master's degree\",\"some high school\",\"some high school\",\"high school\",\"some college\",\"high school\",\"some high school\",\"some high school\",\"some high school\",\"high school\",\"some college\",\"some college\",\"high school\",\"some high school\",\"some college\",\"some high school\",\"some college\",\"high school\",\"some high school\",\"master's degree\",\"high school\",\"some college\"],\"xaxis\":\"x\",\"y\":[82.33333333333333,91.66666666666667,65.0,73.33333333333333,44.666666666666664,70.0,75.0,80.33333333333333,84.33333333333333,63.333333333333336,60.666666666666664,69.0,82.66666666666667,71.33333333333333,80.66666666666667,84.33333333333333,58.333333333333336,75.0,64.66666666666667,60.333333333333336,79.66666666666667,69.0,50.333333333333336,46.0,80.33333333333333,64.33333333333333,68.33333333333333,72.0,50.333333333333336,91.33333333333333,64.33333333333333,88.0,99.66666666666667,86.66666666666667,90.66666666666667,91.33333333333333,72.0,43.333333333333336,77.0,80.0,76.0,48.666666666666664,67.0,50.333333333333336,74.66666666666667,97.66666666666667,66.0,65.0,82.33333333333333,72.66666666666667,78.0,78.0,82.66666666666667,98.66666666666667,51.666666666666664,70.66666666666667,76.33333333333333,70.66666666666667,73.0,49.333333333333336,86.33333333333333,52.666666666666664,75.0,61.333333333333336,99.0,68.33333333333333,48.666666666666664,65.66666666666667,65.33333333333333,79.33333333333333,67.0,79.33333333333333,64.33333333333333,79.0,74.33333333333333,79.0,79.33333333333333,55.666666666666664,86.33333333333333,80.66666666666667,85.66666666666667,57.666666666666664,66.0,63.666666666666664,92.33333333333333,83.0,66.0,69.0,65.33333333333333,48.333333333333336,66.66666666666667,77.33333333333333,75.66666666666667,73.33333333333333,78.66666666666667,91.66666666666667,83.0,90.0,65.66666666666667,75.33333333333333,81.66666666666667,89.0,76.66666666666667,60.0,78.33333333333333,43.333333333333336,71.0,45.333333333333336,80.0,77.33333333333333,77.33333333333333,89.0,65.33333333333333,68.0,66.0,83.33333333333333,76.66666666666667,78.0,57.0,71.66666666666667,50.0,73.0,68.66666666666667,88.66666666666667,73.66666666666667,59.0,82.33333333333333,55.666666666666664,60.0,62.666666666666664,91.66666666666667,93.33333333333333,94.0,66.33333333333333,55.666666666666664,72.0,60.0,95.66666666666667,64.33333333333333,55.0,85.33333333333333,71.66666666666667,81.66666666666667,65.66666666666667,67.33333333333333,71.0,55.666666666666664,89.33333333333333,59.666666666666664,57.333333333333336,74.66666666666667,50.333333333333336,86.33333333333333,75.66666666666667,72.66666666666667,82.33333333333333,78.0,68.33333333333333,65.0,68.0,83.33333333333333,86.0,79.33333333333333,90.33333333333333,76.66666666666667,68.0,70.66666666666667,58.0,81.0,66.0,71.0,91.0,92.0,59.0,89.33333333333333,82.66666666666667,71.0,74.0,74.66666666666667,51.333333333333336,59.0,69.33333333333333,60.333333333333336,87.0,70.0,77.33333333333333,56.333333333333336,74.0,91.66666666666667,70.66666666666667,80.33333333333333,80.33333333333333,96.33333333333333,67.66666666666667,88.33333333333333,68.66666666666667,76.0,92.66666666666667,74.33333333333333,97.33333333333333,70.0,72.0,60.0,49.333333333333336,54.666666666666664,54.0,76.0,97.0,69.0,87.66666666666667,64.0,91.66666666666667,68.66666666666667,53.666666666666664,94.0,98.66666666666667,67.33333333333333,50.0,73.66666666666667,76.0,86.66666666666667,84.0,77.66666666666667,75.66666666666667,76.33333333333333,53.333333333333336,74.66666666666667,89.66666666666667,69.66666666666667,56.666666666666664,69.0,76.66666666666667,77.66666666666667,74.66666666666667,60.0,75.66666666666667,76.0,37.666666666666664,65.33333333333333,97.66666666666667,76.0,73.66666666666667,82.33333333333333,71.33333333333333,80.66666666666667,86.0,62.0,53.666666666666664,89.0,83.33333333333333,68.0,85.66666666666667,74.33333333333333,97.0,81.33333333333333,57.666666666666664,84.0,75.33333333333333,72.33333333333333,58.666666666666664,75.0,90.0,64.0,68.0,85.66666666666667,69.33333333333333,77.0,84.0,70.0,58.666666666666664,74.33333333333333,81.66666666666667,70.0,66.0,63.666666666666664,77.66666666666667,87.0,81.0,57.666666666666664,83.66666666666667,42.333333333333336,83.33333333333333,66.0,69.33333333333333,76.33333333333333,61.666666666666664,82.33333333333333,89.0,69.0,89.0,50.666666666666664,64.66666666666667,78.66666666666667,83.0,82.66666666666667,66.0,78.66666666666667,56.0,34.333333333333336,75.66666666666667,56.333333333333336,87.0,49.0,39.666666666666664,74.0,84.0,74.66666666666667,72.66666666666667,81.33333333333333,64.33333333333333,70.33333333333333,72.66666666666667,96.0,87.33333333333333,79.0,73.33333333333333,61.333333333333336,75.0,41.0,97.66666666666667,84.66666666666667,68.0,59.666666666666664,58.333333333333336,100.0,71.33333333333333,92.66666666666667,66.0,65.66666666666667,44.333333333333336,70.33333333333333,68.33333333333333,73.0,91.66666666666667,83.66666666666667,71.33333333333333,70.0,61.333333333333336,50.333333333333336,68.33333333333333,78.33333333333333,54.666666666666664,72.0,66.0,73.0,54.333333333333336,74.33333333333333,60.666666666666664,48.0,83.33333333333333,85.33333333333333,77.33333333333333,78.66666666666667,80.66666666666667,75.0,94.0,65.0,74.33333333333333],\"yaxis\":\"y\"}],                        {\"barmode\":\"relative\",\"legend\":{\"title\":{\"text\":\"test_prep_course\"},\"tracegroupgap\":0},\"margin\":{\"t\":60},\"template\":{\"data\":{\"bar\":[{\"error_x\":{\"color\":\"#2a3f5f\"},\"error_y\":{\"color\":\"#2a3f5f\"},\"marker\":{\"line\":{\"color\":\"#E5ECF6\",\"width\":0.5},\"pattern\":{\"fillmode\":\"overlay\",\"size\":10,\"solidity\":0.2}},\"type\":\"bar\"}],\"barpolar\":[{\"marker\":{\"line\":{\"color\":\"#E5ECF6\",\"width\":0.5},\"pattern\":{\"fillmode\":\"overlay\",\"size\":10,\"solidity\":0.2}},\"type\":\"barpolar\"}],\"carpet\":[{\"aaxis\":{\"endlinecolor\":\"#2a3f5f\",\"gridcolor\":\"white\",\"linecolor\":\"white\",\"minorgridcolor\":\"white\",\"startlinecolor\":\"#2a3f5f\"},\"baxis\":{\"endlinecolor\":\"#2a3f5f\",\"gridcolor\":\"white\",\"linecolor\":\"white\",\"minorgridcolor\":\"white\",\"startlinecolor\":\"#2a3f5f\"},\"type\":\"carpet\"}],\"choropleth\":[{\"colorbar\":{\"outlinewidth\":0,\"ticks\":\"\"},\"type\":\"choropleth\"}],\"contour\":[{\"colorbar\":{\"outlinewidth\":0,\"ticks\":\"\"},\"colorscale\":[[0.0,\"#0d0887\"],[0.1111111111111111,\"#46039f\"],[0.2222222222222222,\"#7201a8\"],[0.3333333333333333,\"#9c179e\"],[0.4444444444444444,\"#bd3786\"],[0.5555555555555556,\"#d8576b\"],[0.6666666666666666,\"#ed7953\"],[0.7777777777777778,\"#fb9f3a\"],[0.8888888888888888,\"#fdca26\"],[1.0,\"#f0f921\"]],\"type\":\"contour\"}],\"contourcarpet\":[{\"colorbar\":{\"outlinewidth\":0,\"ticks\":\"\"},\"type\":\"contourcarpet\"}],\"heatmap\":[{\"colorbar\":{\"outlinewidth\":0,\"ticks\":\"\"},\"colorscale\":[[0.0,\"#0d0887\"],[0.1111111111111111,\"#46039f\"],[0.2222222222222222,\"#7201a8\"],[0.3333333333333333,\"#9c179e\"],[0.4444444444444444,\"#bd3786\"],[0.5555555555555556,\"#d8576b\"],[0.6666666666666666,\"#ed7953\"],[0.7777777777777778,\"#fb9f3a\"],[0.8888888888888888,\"#fdca26\"],[1.0,\"#f0f921\"]],\"type\":\"heatmap\"}],\"heatmapgl\":[{\"colorbar\":{\"outlinewidth\":0,\"ticks\":\"\"},\"colorscale\":[[0.0,\"#0d0887\"],[0.1111111111111111,\"#46039f\"],[0.2222222222222222,\"#7201a8\"],[0.3333333333333333,\"#9c179e\"],[0.4444444444444444,\"#bd3786\"],[0.5555555555555556,\"#d8576b\"],[0.6666666666666666,\"#ed7953\"],[0.7777777777777778,\"#fb9f3a\"],[0.8888888888888888,\"#fdca26\"],[1.0,\"#f0f921\"]],\"type\":\"heatmapgl\"}],\"histogram\":[{\"marker\":{\"pattern\":{\"fillmode\":\"overlay\",\"size\":10,\"solidity\":0.2}},\"type\":\"histogram\"}],\"histogram2d\":[{\"colorbar\":{\"outlinewidth\":0,\"ticks\":\"\"},\"colorscale\":[[0.0,\"#0d0887\"],[0.1111111111111111,\"#46039f\"],[0.2222222222222222,\"#7201a8\"],[0.3333333333333333,\"#9c179e\"],[0.4444444444444444,\"#bd3786\"],[0.5555555555555556,\"#d8576b\"],[0.6666666666666666,\"#ed7953\"],[0.7777777777777778,\"#fb9f3a\"],[0.8888888888888888,\"#fdca26\"],[1.0,\"#f0f921\"]],\"type\":\"histogram2d\"}],\"histogram2dcontour\":[{\"colorbar\":{\"outlinewidth\":0,\"ticks\":\"\"},\"colorscale\":[[0.0,\"#0d0887\"],[0.1111111111111111,\"#46039f\"],[0.2222222222222222,\"#7201a8\"],[0.3333333333333333,\"#9c179e\"],[0.4444444444444444,\"#bd3786\"],[0.5555555555555556,\"#d8576b\"],[0.6666666666666666,\"#ed7953\"],[0.7777777777777778,\"#fb9f3a\"],[0.8888888888888888,\"#fdca26\"],[1.0,\"#f0f921\"]],\"type\":\"histogram2dcontour\"}],\"mesh3d\":[{\"colorbar\":{\"outlinewidth\":0,\"ticks\":\"\"},\"type\":\"mesh3d\"}],\"parcoords\":[{\"line\":{\"colorbar\":{\"outlinewidth\":0,\"ticks\":\"\"}},\"type\":\"parcoords\"}],\"pie\":[{\"automargin\":true,\"type\":\"pie\"}],\"scatter\":[{\"marker\":{\"colorbar\":{\"outlinewidth\":0,\"ticks\":\"\"}},\"type\":\"scatter\"}],\"scatter3d\":[{\"line\":{\"colorbar\":{\"outlinewidth\":0,\"ticks\":\"\"}},\"marker\":{\"colorbar\":{\"outlinewidth\":0,\"ticks\":\"\"}},\"type\":\"scatter3d\"}],\"scattercarpet\":[{\"marker\":{\"colorbar\":{\"outlinewidth\":0,\"ticks\":\"\"}},\"type\":\"scattercarpet\"}],\"scattergeo\":[{\"marker\":{\"colorbar\":{\"outlinewidth\":0,\"ticks\":\"\"}},\"type\":\"scattergeo\"}],\"scattergl\":[{\"marker\":{\"colorbar\":{\"outlinewidth\":0,\"ticks\":\"\"}},\"type\":\"scattergl\"}],\"scattermapbox\":[{\"marker\":{\"colorbar\":{\"outlinewidth\":0,\"ticks\":\"\"}},\"type\":\"scattermapbox\"}],\"scatterpolar\":[{\"marker\":{\"colorbar\":{\"outlinewidth\":0,\"ticks\":\"\"}},\"type\":\"scatterpolar\"}],\"scatterpolargl\":[{\"marker\":{\"colorbar\":{\"outlinewidth\":0,\"ticks\":\"\"}},\"type\":\"scatterpolargl\"}],\"scatterternary\":[{\"marker\":{\"colorbar\":{\"outlinewidth\":0,\"ticks\":\"\"}},\"type\":\"scatterternary\"}],\"surface\":[{\"colorbar\":{\"outlinewidth\":0,\"ticks\":\"\"},\"colorscale\":[[0.0,\"#0d0887\"],[0.1111111111111111,\"#46039f\"],[0.2222222222222222,\"#7201a8\"],[0.3333333333333333,\"#9c179e\"],[0.4444444444444444,\"#bd3786\"],[0.5555555555555556,\"#d8576b\"],[0.6666666666666666,\"#ed7953\"],[0.7777777777777778,\"#fb9f3a\"],[0.8888888888888888,\"#fdca26\"],[1.0,\"#f0f921\"]],\"type\":\"surface\"}],\"table\":[{\"cells\":{\"fill\":{\"color\":\"#EBF0F8\"},\"line\":{\"color\":\"white\"}},\"header\":{\"fill\":{\"color\":\"#C8D4E3\"},\"line\":{\"color\":\"white\"}},\"type\":\"table\"}]},\"layout\":{\"annotationdefaults\":{\"arrowcolor\":\"#2a3f5f\",\"arrowhead\":0,\"arrowwidth\":1},\"autotypenumbers\":\"strict\",\"coloraxis\":{\"colorbar\":{\"outlinewidth\":0,\"ticks\":\"\"}},\"colorscale\":{\"diverging\":[[0,\"#8e0152\"],[0.1,\"#c51b7d\"],[0.2,\"#de77ae\"],[0.3,\"#f1b6da\"],[0.4,\"#fde0ef\"],[0.5,\"#f7f7f7\"],[0.6,\"#e6f5d0\"],[0.7,\"#b8e186\"],[0.8,\"#7fbc41\"],[0.9,\"#4d9221\"],[1,\"#276419\"]],\"sequential\":[[0.0,\"#0d0887\"],[0.1111111111111111,\"#46039f\"],[0.2222222222222222,\"#7201a8\"],[0.3333333333333333,\"#9c179e\"],[0.4444444444444444,\"#bd3786\"],[0.5555555555555556,\"#d8576b\"],[0.6666666666666666,\"#ed7953\"],[0.7777777777777778,\"#fb9f3a\"],[0.8888888888888888,\"#fdca26\"],[1.0,\"#f0f921\"]],\"sequentialminus\":[[0.0,\"#0d0887\"],[0.1111111111111111,\"#46039f\"],[0.2222222222222222,\"#7201a8\"],[0.3333333333333333,\"#9c179e\"],[0.4444444444444444,\"#bd3786\"],[0.5555555555555556,\"#d8576b\"],[0.6666666666666666,\"#ed7953\"],[0.7777777777777778,\"#fb9f3a\"],[0.8888888888888888,\"#fdca26\"],[1.0,\"#f0f921\"]]},\"colorway\":[\"#636efa\",\"#EF553B\",\"#00cc96\",\"#ab63fa\",\"#FFA15A\",\"#19d3f3\",\"#FF6692\",\"#B6E880\",\"#FF97FF\",\"#FECB52\"],\"font\":{\"color\":\"#2a3f5f\"},\"geo\":{\"bgcolor\":\"white\",\"lakecolor\":\"white\",\"landcolor\":\"#E5ECF6\",\"showlakes\":true,\"showland\":true,\"subunitcolor\":\"white\"},\"hoverlabel\":{\"align\":\"left\"},\"hovermode\":\"closest\",\"mapbox\":{\"style\":\"light\"},\"paper_bgcolor\":\"white\",\"plot_bgcolor\":\"#E5ECF6\",\"polar\":{\"angularaxis\":{\"gridcolor\":\"white\",\"linecolor\":\"white\",\"ticks\":\"\"},\"bgcolor\":\"#E5ECF6\",\"radialaxis\":{\"gridcolor\":\"white\",\"linecolor\":\"white\",\"ticks\":\"\"}},\"scene\":{\"xaxis\":{\"backgroundcolor\":\"#E5ECF6\",\"gridcolor\":\"white\",\"gridwidth\":2,\"linecolor\":\"white\",\"showbackground\":true,\"ticks\":\"\",\"zerolinecolor\":\"white\"},\"yaxis\":{\"backgroundcolor\":\"#E5ECF6\",\"gridcolor\":\"white\",\"gridwidth\":2,\"linecolor\":\"white\",\"showbackground\":true,\"ticks\":\"\",\"zerolinecolor\":\"white\"},\"zaxis\":{\"backgroundcolor\":\"#E5ECF6\",\"gridcolor\":\"white\",\"gridwidth\":2,\"linecolor\":\"white\",\"showbackground\":true,\"ticks\":\"\",\"zerolinecolor\":\"white\"}},\"shapedefaults\":{\"line\":{\"color\":\"#2a3f5f\"}},\"ternary\":{\"aaxis\":{\"gridcolor\":\"white\",\"linecolor\":\"white\",\"ticks\":\"\"},\"baxis\":{\"gridcolor\":\"white\",\"linecolor\":\"white\",\"ticks\":\"\"},\"bgcolor\":\"#E5ECF6\",\"caxis\":{\"gridcolor\":\"white\",\"linecolor\":\"white\",\"ticks\":\"\"}},\"title\":{\"x\":0.05},\"xaxis\":{\"automargin\":true,\"gridcolor\":\"white\",\"linecolor\":\"white\",\"ticks\":\"\",\"title\":{\"standoff\":15},\"zerolinecolor\":\"white\",\"zerolinewidth\":2},\"yaxis\":{\"automargin\":true,\"gridcolor\":\"white\",\"linecolor\":\"white\",\"ticks\":\"\",\"title\":{\"standoff\":15},\"zerolinecolor\":\"white\",\"zerolinewidth\":2}}},\"xaxis\":{\"anchor\":\"y\",\"domain\":[0.0,1.0],\"title\":{\"text\":\"parent_education_level\"}},\"yaxis\":{\"anchor\":\"x\",\"domain\":[0.0,1.0],\"title\":{\"text\":\"avg_score\"}}},                        {\"responsive\": true}                    ).then(function(){\n",
       "                            \n",
       "var gd = document.getElementById('08326d6f-77ac-4174-a879-52218ffff7a5');\n",
       "var x = new MutationObserver(function (mutations, observer) {{\n",
       "        var display = window.getComputedStyle(gd).display;\n",
       "        if (!display || display === 'none') {{\n",
       "            console.log([gd, 'removed!']);\n",
       "            Plotly.purge(gd);\n",
       "            observer.disconnect();\n",
       "        }}\n",
       "}});\n",
       "\n",
       "// Listen for the removal of the full notebook cells\n",
       "var notebookContainer = gd.closest('#notebook-container');\n",
       "if (notebookContainer) {{\n",
       "    x.observe(notebookContainer, {childList: true});\n",
       "}}\n",
       "\n",
       "// Listen for the clearing of the current output cell\n",
       "var outputEl = gd.closest('.output');\n",
       "if (outputEl) {{\n",
       "    x.observe(outputEl, {childList: true});\n",
       "}}\n",
       "\n",
       "                        })                };                });            </script>        </div>"
      ]
     },
     "metadata": {},
     "output_type": "display_data"
    }
   ],
   "source": [
    "import plotly.express as px\n",
    "fig = px.bar(df, x=\"parent_education_level\", y=\"avg_score\", color=\"test_prep_course\")\n",
    "fig.show()"
   ]
  },
  {
   "cell_type": "markdown",
   "id": "103a4544-30a6-4918-8478-87902e7a4973",
   "metadata": {},
   "source": [
    "Correlations between scores"
   ]
  },
  {
   "cell_type": "code",
   "execution_count": 63,
   "id": "781613c4-0509-490e-877d-2d1352507995",
   "metadata": {},
   "outputs": [
    {
     "data": {
      "application/com.datacamp.data-table.v1+json": {
       "is_truncated": false,
       "table": {
        "data": [
         {
          "index": "math",
          "math": 1,
          "reading": 0.8175796637,
          "writing": 0.8026420459
         },
         {
          "index": "reading",
          "math": 0.8175796637,
          "reading": 1,
          "writing": 0.9545980771
         },
         {
          "index": "writing",
          "math": 0.8026420459,
          "reading": 0.9545980771,
          "writing": 1
         }
        ],
        "schema": {
         "fields": [
          {
           "name": "index",
           "type": "string"
          },
          {
           "name": "math",
           "type": "number"
          },
          {
           "name": "reading",
           "type": "number"
          },
          {
           "name": "writing",
           "type": "number"
          }
         ],
         "pandas_version": "0.20.0",
         "primaryKey": [
          "index"
         ]
        }
       },
       "total_rows": 3
      },
      "text/html": [
       "<div>\n",
       "<style scoped>\n",
       "    .dataframe tbody tr th:only-of-type {\n",
       "        vertical-align: middle;\n",
       "    }\n",
       "\n",
       "    .dataframe tbody tr th {\n",
       "        vertical-align: top;\n",
       "    }\n",
       "\n",
       "    .dataframe thead th {\n",
       "        text-align: right;\n",
       "    }\n",
       "</style>\n",
       "<table border=\"1\" class=\"dataframe\">\n",
       "  <thead>\n",
       "    <tr style=\"text-align: right;\">\n",
       "      <th></th>\n",
       "      <th>math</th>\n",
       "      <th>reading</th>\n",
       "      <th>writing</th>\n",
       "    </tr>\n",
       "  </thead>\n",
       "  <tbody>\n",
       "    <tr>\n",
       "      <th>math</th>\n",
       "      <td>1.000000</td>\n",
       "      <td>0.817580</td>\n",
       "      <td>0.802642</td>\n",
       "    </tr>\n",
       "    <tr>\n",
       "      <th>reading</th>\n",
       "      <td>0.817580</td>\n",
       "      <td>1.000000</td>\n",
       "      <td>0.954598</td>\n",
       "    </tr>\n",
       "    <tr>\n",
       "      <th>writing</th>\n",
       "      <td>0.802642</td>\n",
       "      <td>0.954598</td>\n",
       "      <td>1.000000</td>\n",
       "    </tr>\n",
       "  </tbody>\n",
       "</table>\n",
       "</div>"
      ],
      "text/plain": [
       "             math   reading   writing\n",
       "math     1.000000  0.817580  0.802642\n",
       "reading  0.817580  1.000000  0.954598\n",
       "writing  0.802642  0.954598  1.000000"
      ]
     },
     "execution_count": 63,
     "metadata": {},
     "output_type": "execute_result"
    }
   ],
   "source": [
    "df[cols].corr()"
   ]
  },
  {
   "cell_type": "markdown",
   "id": "54c8e399-12f6-40fc-a2bb-480fac917953",
   "metadata": {},
   "source": [
    "Summarize\n",
    "- the average reading scores for students with the preparation course is bigger than the average reading scores for students without the preparation course no matter what parent education level is\n",
    "- The highest average score is the student whose parent have master's degree and the lowest average score is the student whose parent have high school\n",
    "- There is positive correlation between scores"
   ]
  }
 ],
 "metadata": {
  "kernelspec": {
   "display_name": "Python 3 (ipykernel)",
   "language": "python",
   "name": "python3"
  },
  "language_info": {
   "codemirror_mode": {
    "name": "ipython",
    "version": 3
   },
   "file_extension": ".py",
   "mimetype": "text/x-python",
   "name": "python",
   "nbconvert_exporter": "python",
   "pygments_lexer": "ipython3",
   "version": "3.8.10"
  }
 },
 "nbformat": 4,
 "nbformat_minor": 5
}
